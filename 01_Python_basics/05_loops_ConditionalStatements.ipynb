{
 "cells": [
  {
   "cell_type": "markdown",
   "metadata": {},
   "source": [
    "* Introduction to Conditional Statements\n",
    "* if Statement\n",
    "* else Statement\n",
    "* elif Statement\n",
    "* Nested Conditional Statements\n",
    "* Practical Examples\n",
    "* Common Errors and Best Practices"
   ]
  },
  {
   "cell_type": "code",
   "execution_count": 2,
   "metadata": {},
   "outputs": [
    {
     "name": "stdout",
     "output_type": "stream",
     "text": [
      "pass\n"
     ]
    }
   ],
   "source": [
    "age=19\n",
    "if age>18:\n",
    "    print('pass')\n",
    "else:\n",
    "    print('no pass')"
   ]
  },
  {
   "cell_type": "code",
   "execution_count": null,
   "metadata": {},
   "outputs": [],
   "source": [
    "user=int(input('please input your age:'))\n",
    "user_gender=input('please input your gender: ')\n",
    "if user>18:\n",
    "    if user.lower() =='male':\n",
    "        print('pass')\n",
    "    else:\n",
    "        print('no pass')\n",
    "else:\n",
    "    print('no pass')"
   ]
  }
 ],
 "metadata": {
  "kernelspec": {
   "display_name": "venv",
   "language": "python",
   "name": "python3"
  },
  "language_info": {
   "codemirror_mode": {
    "name": "ipython",
    "version": 3
   },
   "file_extension": ".py",
   "mimetype": "text/x-python",
   "name": "python",
   "nbconvert_exporter": "python",
   "pygments_lexer": "ipython3",
   "version": "3.13.2"
  }
 },
 "nbformat": 4,
 "nbformat_minor": 2
}
