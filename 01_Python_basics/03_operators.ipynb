{
 "cells": [
  {
   "cell_type": "markdown",
   "metadata": {},
   "source": [
    "# **Python Operators**\n",
    "\n",
    "## **1. Arithmetic Operators**  \n",
    "Arithmetic operators are used to perform mathematical operations.\n",
    "\n",
    "| Operator | Description | Example |\n",
    "|----------|-------------|---------|\n",
    "| `+` | Addition | `5 + 3 = 8` |\n",
    "| `-` | Subtraction | `10 - 4 = 6` |\n",
    "| `*` | Multiplication | `6 * 3 = 18` |\n",
    "| `/` | Division | `10 / 3 = 3.3333` |\n",
    "| `//` | Floor Division | `10 // 3 = 3` (removes the decimal part) |\n",
    "| `%` | Modulus | `10 % 3 = 1` (returns remainder) |\n",
    "| `**` | Exponentiation | `2 ** 3 = 8` (2 raised to the power of 3) |\n",
    "\n",
    "---\n",
    "\n",
    "## **2. Comparison Operators**  \n",
    "Comparison operators compare values and return `True` or `False`.\n",
    "\n",
    "| Operator | Description | Example |\n",
    "|----------|-------------|---------|\n",
    "| `==` | Equal to | `5 == 5` → `True` |\n",
    "| `!=` | Not equal to | `5 != 3` → `True` |\n",
    "| `>` | Greater than | `10 > 5` → `True` |\n",
    "| `<` | Less than | `3 < 5` → `True` |\n",
    "| `>=` | Greater than or equal to | `5 >= 5` → `True` |\n",
    "| `<=` | Less than or equal to | `4 <= 6` → `True` |\n",
    "\n",
    "---\n",
    "\n",
    "## **3. Logical Operators**  \n",
    "Logical operators are used to combine conditional statements.\n",
    "\n",
    "| Operator | Description | Example |\n",
    "|----------|-------------|---------|\n",
    "| `and` | Returns `True` if both conditions are true | `(5 > 3) and (10 > 5)` → `True` |\n",
    "| `or` | Returns `True` if at least one condition is true | `(5 > 3) or (10 < 5)` → `True` |\n",
    "| `not` | Reverses the result of a condition | `not(5 > 3)` → `False` |\n",
    "\n",
    "\n"
   ]
  },
  {
   "cell_type": "code",
   "execution_count": 1,
   "metadata": {},
   "outputs": [],
   "source": [
    "\n",
    "# Arithmetic Operators\n",
    "a = 10\n",
    "b = 3\n",
    "\n"
   ]
  },
  {
   "cell_type": "code",
   "execution_count": 2,
   "metadata": {},
   "outputs": [
    {
     "name": "stdout",
     "output_type": "stream",
     "text": [
      "13\n",
      "7\n",
      "30\n",
      "3.3333333333333335\n",
      "3\n",
      "1\n",
      "1000\n"
     ]
    }
   ],
   "source": [
    "print(a + b)  # Addition\n",
    "print(a - b)  # Subtraction\n",
    "print(a * b)  # Multiplication\n",
    "print(a / b)  # Division\n",
    "print(a // b) # Floor Division\n",
    "print(a % b)  # Modulus\n",
    "print(a ** b) # Exponentiation\n",
    "\n"
   ]
  },
  {
   "cell_type": "code",
   "execution_count": 3,
   "metadata": {},
   "outputs": [
    {
     "name": "stdout",
     "output_type": "stream",
     "text": [
      "False\n",
      "True\n",
      "True\n",
      "False\n",
      "True\n",
      "False\n"
     ]
    }
   ],
   "source": [
    "# Comparison Operators\n",
    "print(a == b)  # Equal to\n",
    "print(a != b)  # Not equal to\n",
    "print(a > b)   # Greater than\n",
    "print(a < b)   # Less than\n",
    "print(a >= b)  # Greater than or equal to\n",
    "print(a <= b)  # Less than or equal to\n",
    "\n"
   ]
  },
  {
   "cell_type": "code",
   "execution_count": 4,
   "metadata": {},
   "outputs": [
    {
     "name": "stdout",
     "output_type": "stream",
     "text": [
      "False\n",
      "True\n",
      "False\n"
     ]
    }
   ],
   "source": [
    "# Logical Operators\n",
    "x = True\n",
    "y = False\n",
    "\n",
    "print(x and y)  # AND\n",
    "print(x or y)   # OR\n",
    "print(not x)    # NOT"
   ]
  },
  {
   "cell_type": "code",
   "execution_count": null,
   "metadata": {},
   "outputs": [],
   "source": []
  }
 ],
 "metadata": {
  "kernelspec": {
   "display_name": "venv",
   "language": "python",
   "name": "python3"
  },
  "language_info": {
   "codemirror_mode": {
    "name": "ipython",
    "version": 3
   },
   "file_extension": ".py",
   "mimetype": "text/x-python",
   "name": "python",
   "nbconvert_exporter": "python",
   "pygments_lexer": "ipython3",
   "version": "3.13.2"
  }
 },
 "nbformat": 4,
 "nbformat_minor": 2
}
