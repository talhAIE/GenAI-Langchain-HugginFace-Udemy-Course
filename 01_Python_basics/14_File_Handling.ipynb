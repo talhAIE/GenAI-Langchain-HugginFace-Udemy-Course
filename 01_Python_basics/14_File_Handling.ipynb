{
 "cells": [
  {
   "cell_type": "markdown",
   "metadata": {},
   "source": [
    "# Read and Write File"
   ]
  },
  {
   "cell_type": "code",
   "execution_count": 6,
   "metadata": {},
   "outputs": [
    {
     "name": "stdout",
     "output_type": "stream",
     "text": [
      "Talha\n",
      "Tayyab\n",
      "Tabassum\n",
      "Uzair\n",
      "Talib\n"
     ]
    }
   ],
   "source": [
    "with open('names.txt','r') as f:\n",
    "    for line in f:\n",
    "        print(line.strip())"
   ]
  },
  {
   "cell_type": "code",
   "execution_count": 7,
   "metadata": {},
   "outputs": [],
   "source": [
    "with open('example.txt','w') as f:\n",
    "    f.write('Talha Abbasi is learning python from krish Naik')\n",
    "    "
   ]
  },
  {
   "cell_type": "code",
   "execution_count": 8,
   "metadata": {},
   "outputs": [],
   "source": [
    "with open('example.txt','a') as f: # open in append mode to avoid overwrite\n",
    "    f.write(input('what you want to write into file'))"
   ]
  },
  {
   "cell_type": "code",
   "execution_count": 10,
   "metadata": {},
   "outputs": [],
   "source": [
    "lines=['line1 \\n','line2 \\n','line3 \\n']\n",
    "with open('test.txt','a') as f:\n",
    "    f.writelines(lines)"
   ]
  },
  {
   "cell_type": "code",
   "execution_count": 11,
   "metadata": {},
   "outputs": [],
   "source": [
    "# Read content from source text file and write to destination text file\n",
    "\n",
    "with open('example.txt','r') as source:\n",
    "    content=source.read()\n",
    "\n",
    "with open('test.txt','a') as destination:\n",
    "    destination.write(content)\n"
   ]
  },
  {
   "cell_type": "code",
   "execution_count": 16,
   "metadata": {},
   "outputs": [
    {
     "name": "stdout",
     "output_type": "stream",
     "text": [
      "4\n",
      "111\n",
      "17\n"
     ]
    }
   ],
   "source": [
    "# Practice read the text files and count number of charcters and words in each line\n",
    "\n",
    "with open('test.txt','r') as test:\n",
    "    lines=test.readlines()\n",
    "    total_lines=len(lines)\n",
    "    total_words=sum(len(line.split()) for line in lines)\n",
    "    total_characters=sum(len(line) for line in lines)\n",
    "\n",
    "    print(total_lines)\n",
    "    print(total_characters)\n",
    "    print(total_words)\n",
    "         \n"
   ]
  },
  {
   "cell_type": "code",
   "execution_count": 19,
   "metadata": {},
   "outputs": [
    {
     "name": "stdout",
     "output_type": "stream",
     "text": [
      "hello i am talha abbasiyes its interesting\n"
     ]
    }
   ],
   "source": [
    "# writing and then reading file\n",
    "with open('test2.txt','w+') as f:\n",
    "    f.write('hello i am talha abbasi')\n",
    "    f.write('yes its interesting')\n",
    "\n",
    "    # move cursor to top\n",
    "    f.seek(0)\n",
    "    content=f.read()\n",
    "    print(content)"
   ]
  },
  {
   "cell_type": "code",
   "execution_count": 21,
   "metadata": {},
   "outputs": [
    {
     "data": {
      "text/plain": [
       "['01_basics.ipynb',\n",
       " '02_variables.ipynb',\n",
       " '03_operators.ipynb',\n",
       " '04_Strings.ipynb',\n",
       " '05_loops_ConditionalStatements.ipynb',\n",
       " '06_basic_files_Input_ouput.ipynb',\n",
       " '07_args_kwargs.ipynb',\n",
       " '08_lambda_map_filter.ipynb',\n",
       " '09_list_listComprehension.ipynb',\n",
       " '10_Tuples.ipynb',\n",
       " '11_Dictionary.ipynb',\n",
       " '12_Functiosn_lambda.ipynb',\n",
       " '13_map_filter_Functions.ipynb',\n",
       " '14_File_Handling.ipynb',\n",
       " 'example.txt',\n",
       " 'names.txt',\n",
       " 'package',\n",
       " 'test.txt',\n",
       " 'test2.txt']"
      ]
     },
     "execution_count": 21,
     "metadata": {},
     "output_type": "execute_result"
    }
   ],
   "source": [
    "import os\n",
    "os.listdir('.')"
   ]
  },
  {
   "cell_type": "code",
   "execution_count": 22,
   "metadata": {},
   "outputs": [
    {
     "name": "stdout",
     "output_type": "stream",
     "text": [
      "folder\\file.txt\n"
     ]
    }
   ],
   "source": [
    "# joining path\n",
    "dir='folder'\n",
    "tx='file.txt'\n",
    "path=os.path.join(dir,tx)\n",
    "print(path)"
   ]
  },
  {
   "cell_type": "code",
   "execution_count": 23,
   "metadata": {},
   "outputs": [
    {
     "name": "stdout",
     "output_type": "stream",
     "text": [
      "c:\\Users\\PC\\Desktop\\GenAI_Langchain_HuggingFace\\01_Python_basics\\folder\\file.txt\n"
     ]
    }
   ],
   "source": [
    "# joining path with current dir\n",
    "dir='folder'\n",
    "tx='file.txt'\n",
    "path=os.path.join(os.getcwd(),dir,tx)\n",
    "print(path)"
   ]
  },
  {
   "cell_type": "code",
   "execution_count": 24,
   "metadata": {},
   "outputs": [
    {
     "name": "stdout",
     "output_type": "stream",
     "text": [
      "yes\n"
     ]
    }
   ],
   "source": [
    "if os.path.exists('example.txt'):\n",
    "    print('yes')\n",
    "else:\n",
    "    print('NO')"
   ]
  },
  {
   "cell_type": "code",
   "execution_count": 25,
   "metadata": {},
   "outputs": [
    {
     "name": "stdout",
     "output_type": "stream",
     "text": [
      "File\n"
     ]
    }
   ],
   "source": [
    "# checking is path is file or directory\n",
    "path='test.txt'\n",
    "if os.path.isfile(path):\n",
    "    print('File')\n",
    "elif os.path.isdir(path):\n",
    "    print('directory')\n",
    "else:\n",
    "    print('Nothing')"
   ]
  },
  {
   "cell_type": "code",
   "execution_count": 26,
   "metadata": {},
   "outputs": [
    {
     "name": "stdout",
     "output_type": "stream",
     "text": [
      "c:\\Users\\PC\\Desktop\\GenAI_Langchain_HuggingFace\\01_Python_basics\\example.txt\n"
     ]
    }
   ],
   "source": [
    "# Getting absolute path\n",
    "print(os.path.abspath('example.txt'))"
   ]
  },
  {
   "cell_type": "code",
   "execution_count": null,
   "metadata": {},
   "outputs": [],
   "source": []
  }
 ],
 "metadata": {
  "kernelspec": {
   "display_name": "venv",
   "language": "python",
   "name": "python3"
  },
  "language_info": {
   "codemirror_mode": {
    "name": "ipython",
    "version": 3
   },
   "file_extension": ".py",
   "mimetype": "text/x-python",
   "name": "python",
   "nbconvert_exporter": "python",
   "pygments_lexer": "ipython3",
   "version": "3.13.2"
  }
 },
 "nbformat": 4,
 "nbformat_minor": 2
}
