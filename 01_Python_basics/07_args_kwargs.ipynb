{
 "cells": [
  {
   "cell_type": "code",
   "execution_count": 2,
   "metadata": {},
   "outputs": [
    {
     "name": "stdout",
     "output_type": "stream",
     "text": [
      "59\n"
     ]
    }
   ],
   "source": [
    "# *args non keywords arguments\n",
    "def sum_all(*args):\n",
    "    return sum(args)\n",
    "\n",
    "print(sum_all(2,3,4,45,5))\n"
   ]
  },
  {
   "cell_type": "code",
   "execution_count": 6,
   "metadata": {},
   "outputs": [
    {
     "name": "stdout",
     "output_type": "stream",
     "text": [
      "talha\n"
     ]
    }
   ],
   "source": [
    "# **kwargs for keyword arguments\n",
    "def mykwargs(**kwargs):\n",
    "    if 'name' in kwargs:\n",
    "        print(kwargs['name'])\n",
    "    else:\n",
    "        print('not found')\n",
    "\n",
    "mykwargs(name='talha')"
   ]
  },
  {
   "cell_type": "code",
   "execution_count": 13,
   "metadata": {},
   "outputs": [
    {
     "name": "stdout",
     "output_type": "stream",
     "text": [
      "10\n",
      "name Talha\n",
      "age 45\n"
     ]
    }
   ],
   "source": [
    "def test(*args,**kwargs):\n",
    "\n",
    "    if args:\n",
    "\n",
    "        print(sum(args))\n",
    "    else:\n",
    "        print('no value found')\n",
    "    \n",
    "    if kwargs:\n",
    "        for key,value in kwargs.items():\n",
    "            print(key,value)\n",
    "    else:\n",
    "        print('no value found')\n",
    "\n",
    "test(1,2,3,4, name='Talha',age=45)"
   ]
  },
  {
   "cell_type": "code",
   "execution_count": null,
   "metadata": {},
   "outputs": [],
   "source": []
  }
 ],
 "metadata": {
  "kernelspec": {
   "display_name": "venv",
   "language": "python",
   "name": "python3"
  },
  "language_info": {
   "codemirror_mode": {
    "name": "ipython",
    "version": 3
   },
   "file_extension": ".py",
   "mimetype": "text/x-python",
   "name": "python",
   "nbconvert_exporter": "python",
   "pygments_lexer": "ipython3",
   "version": "3.13.2"
  }
 },
 "nbformat": 4,
 "nbformat_minor": 2
}
