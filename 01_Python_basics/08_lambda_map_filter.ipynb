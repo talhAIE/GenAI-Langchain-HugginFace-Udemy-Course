{
 "cells": [
  {
   "cell_type": "code",
   "execution_count": 2,
   "metadata": {},
   "outputs": [
    {
     "name": "stdout",
     "output_type": "stream",
     "text": [
      "1\n",
      "4\n",
      "9\n",
      "16\n"
     ]
    }
   ],
   "source": [
    "#lambdam lambda arguments: expression\n",
    "\n",
    "'''The map() function in Python is used to apply a given function to each item of an iterable (like a list or tuple) and return a map object (which can be converted to a list, tuple, etc.).'''\n",
    "ls=[1,2,3,4]\n",
    "def square(a):\n",
    "    return a**2\n",
    "map(square,ls)\n",
    "for i in map(square,ls):\n",
    "    print(i)"
   ]
  },
  {
   "cell_type": "code",
   "execution_count": 3,
   "metadata": {},
   "outputs": [
    {
     "name": "stdout",
     "output_type": "stream",
     "text": [
      "1\n",
      "4\n",
      "9\n",
      "16\n"
     ]
    }
   ],
   "source": [
    "for i in map(lambda x:x**2,ls):\n",
    "    print(i)"
   ]
  },
  {
   "cell_type": "code",
   "execution_count": 5,
   "metadata": {},
   "outputs": [
    {
     "name": "stdout",
     "output_type": "stream",
     "text": [
      "6\n",
      "8\n",
      "10\n",
      "12\n"
     ]
    }
   ],
   "source": [
    "ls2=[5,6,7,8]\n",
    "for i in map(lambda x,y:x+y,ls,ls2):\n",
    "    print(i)"
   ]
  },
  {
   "cell_type": "code",
   "execution_count": 6,
   "metadata": {},
   "outputs": [
    {
     "name": "stdout",
     "output_type": "stream",
     "text": [
      "TALHA\n",
      "TAYYAB\n",
      "TABASSUM\n",
      "UZAIR\n"
     ]
    }
   ],
   "source": [
    "# converting list of strings to upper case using map funcitons\n",
    "ls=['talha','tayyab','tabassum','uzair']\n",
    "for i in map(str.upper,ls):\n",
    "    print(i)"
   ]
  },
  {
   "cell_type": "code",
   "execution_count": null,
   "metadata": {},
   "outputs": [],
   "source": [
    "# Filter \n",
    "'''The filter() function in Python is used to filter out elements from an iterable (like a list, tuple, or set) based on a given condition. It only keeps the elements for which the function returns True.'''\\\n",
    "\n",
    "'''filter(function, iterable)\n",
    "'''\n",
    "\n"
   ]
  }
 ],
 "metadata": {
  "kernelspec": {
   "display_name": "venv",
   "language": "python",
   "name": "python3"
  },
  "language_info": {
   "codemirror_mode": {
    "name": "ipython",
    "version": 3
   },
   "file_extension": ".py",
   "mimetype": "text/x-python",
   "name": "python",
   "nbconvert_exporter": "python",
   "pygments_lexer": "ipython3",
   "version": "3.13.2"
  }
 },
 "nbformat": 4,
 "nbformat_minor": 2
}
