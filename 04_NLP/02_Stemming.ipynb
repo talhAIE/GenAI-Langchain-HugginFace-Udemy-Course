{
 "cells": [
  {
   "cell_type": "markdown",
   "metadata": {},
   "source": [
    "# Stemming\n",
    "Stemming is the process of reducing a word to its root or base form by removing prefixes and suffixes.<br>\n",
    " For example, the words “running”, “runs”, and “ran” are all reduced to the root “run”.\n"
   ]
  },
  {
   "cell_type": "code",
   "execution_count": 6,
   "metadata": {},
   "outputs": [],
   "source": [
    "words=['eating','eaten','eater','writer','writing','write','writes','drinking','drunk','drunked','drunking','sings','sing','singing','song','songs','History','Historian','Historically','Historics']"
   ]
  },
  {
   "cell_type": "markdown",
   "metadata": {},
   "source": [
    "# PorterStemmer"
   ]
  },
  {
   "cell_type": "code",
   "execution_count": 7,
   "metadata": {},
   "outputs": [
    {
     "name": "stdout",
     "output_type": "stream",
     "text": [
      "eating----->eat\n",
      "eaten----->eaten\n",
      "eater----->eater\n",
      "writer----->writer\n",
      "writing----->write\n",
      "write----->write\n",
      "writes----->write\n",
      "drinking----->drink\n",
      "drunk----->drunk\n",
      "drunked----->drunk\n",
      "drunking----->drunk\n",
      "sings----->sing\n",
      "sing----->sing\n",
      "singing----->sing\n",
      "song----->song\n",
      "songs----->song\n",
      "History----->histori\n",
      "Historian----->historian\n",
      "Historically----->histor\n",
      "Historics----->histor\n"
     ]
    }
   ],
   "source": [
    "from nltk.stem import PorterStemmer\n",
    "\n",
    "porter=PorterStemmer()\n",
    "for word in words:\n",
    "    print(word+\"----->\"+porter.stem(word))\n"
   ]
  },
  {
   "cell_type": "code",
   "execution_count": 8,
   "metadata": {},
   "outputs": [
    {
     "name": "stdout",
     "output_type": "stream",
     "text": [
      "congratul\n"
     ]
    }
   ],
   "source": [
    "print(porter.stem('congratulation'))"
   ]
  },
  {
   "cell_type": "code",
   "execution_count": 9,
   "metadata": {},
   "outputs": [
    {
     "name": "stdout",
     "output_type": "stream",
     "text": [
      "sit\n"
     ]
    }
   ],
   "source": [
    "print(porter.stem('sitting'))"
   ]
  },
  {
   "cell_type": "markdown",
   "metadata": {},
   "source": [
    "# RegexStemmer Class\n",
    "can implement Regular Expression Stemmer Algorithm takes single regular expression and removes any prefix or suffix that matches the expression"
   ]
  },
  {
   "cell_type": "code",
   "execution_count": 14,
   "metadata": {},
   "outputs": [
    {
     "data": {
      "text/plain": [
       "'ingeat'"
      ]
     },
     "execution_count": 14,
     "metadata": {},
     "output_type": "execute_result"
    }
   ],
   "source": [
    "from nltk.stem import RegexpStemmer\n",
    "regstemmer=RegexpStemmer('ing$|s$|e$|able$',min=4)\n",
    "regstemmer.stem('ingeating')\n",
    "\n",
    "\n"
   ]
  },
  {
   "cell_type": "markdown",
   "metadata": {},
   "source": [
    "# Snowball Stemmer\n",
    "it perform better then PorterStemmer "
   ]
  },
  {
   "cell_type": "code",
   "execution_count": 15,
   "metadata": {},
   "outputs": [
    {
     "name": "stdout",
     "output_type": "stream",
     "text": [
      "eating----->eat\n",
      "eaten----->eaten\n",
      "eater----->eater\n",
      "writer----->writer\n",
      "writing----->write\n",
      "write----->write\n",
      "writes----->write\n",
      "drinking----->drink\n",
      "drunk----->drunk\n",
      "drunked----->drunk\n",
      "drunking----->drunk\n",
      "sings----->sing\n",
      "sing----->sing\n",
      "singing----->sing\n",
      "song----->song\n",
      "songs----->song\n",
      "History----->histori\n",
      "Historian----->historian\n",
      "Historically----->histor\n",
      "Historics----->histor\n"
     ]
    }
   ],
   "source": [
    "from nltk.stem import SnowballStemmer\n",
    "\n",
    "snowstem=SnowballStemmer('english')\n",
    "for word in words:\n",
    "    print(word+\"----->\"+snowstem.stem(word))\n"
   ]
  },
  {
   "cell_type": "code",
   "execution_count": 17,
   "metadata": {},
   "outputs": [
    {
     "data": {
      "text/plain": [
       "('fair', 'fair')"
      ]
     },
     "execution_count": 17,
     "metadata": {},
     "output_type": "execute_result"
    }
   ],
   "source": [
    "snowstem.stem('fairly'),snowstem.stem('fairlys')\n"
   ]
  },
  {
   "cell_type": "code",
   "execution_count": null,
   "metadata": {},
   "outputs": [],
   "source": []
  }
 ],
 "metadata": {
  "kernelspec": {
   "display_name": "venv",
   "language": "python",
   "name": "python3"
  },
  "language_info": {
   "codemirror_mode": {
    "name": "ipython",
    "version": 3
   },
   "file_extension": ".py",
   "mimetype": "text/x-python",
   "name": "python",
   "nbconvert_exporter": "python",
   "pygments_lexer": "ipython3",
   "version": "3.13.2"
  }
 },
 "nbformat": 4,
 "nbformat_minor": 2
}
