{
 "cells": [
  {
   "cell_type": "markdown",
   "metadata": {},
   "source": [
    "# Text PreProcessing\n"
   ]
  },
  {
   "cell_type": "markdown",
   "metadata": {},
   "source": [
    "Stop words in NLP are common words—such as articles, prepositions, and conjunctions—that carry minimal semantic content and are often removed to reduce noise and improve processing efficiency.\n",
    "\n",
    "While there is no universal stop-word list, many tools and libraries provide default lists that can be customized for specific domains or tasks. Removing stop words can speed up text processing, reduce dimensionality, and enhance the focus on meaningful terms, but in some applications (e.g., sentiment analysis, named-entity recognition) stop-word removal may inadvertently discard useful information. In Python, libraries like NLTK and spaCy offer built-in stop-word lists and easy methods for filtering them, while practitioners should remain aware of context-specific and document-level stop words to achieve optimal results."
   ]
  },
  {
   "cell_type": "code",
   "execution_count": 45,
   "metadata": {},
   "outputs": [],
   "source": [
    "pargraph= \"\"\"\n",
    "I am indeed delighted to participate in the 21st Convocation of Sri Sathya Sai Institute of Higher Learning.\n",
    "I take this opportunity to congratulate the young graduates for their achievement.\n",
    "I greet the Vice Chancellor, Professors, teachers and staff for the excellent contribution in shaping young minds to contribute to the nation in multiple fields.\n",
    "It is a great honour for me that the Chancellor, Swamiji, has given me this opportunity to share my thoughts at this Convocation.\n",
    "\n",
    "Is value based education possible? Sri Sathya Sai Institute of Higher Learning has given an answer in the affirmative.\n",
    "Our ultimate goal is: all human beings should be prosperous and should have all forms of security like food security, social security and future security of their children.\n",
    "How to achieve them? How can a nation be secured from external and internal problems?\n",
    "National security and economic prosperity are interconnected.\n",
    "\n",
    "Sathyam, Dharma, Shanti and Prema are the eternal human values.\n",
    "Efforts and endeavour are man's duty. Success or failure is God's domain.\n",
    "I can see in this campus high calibre graduates bubbling with creativity.\n",
    "There is a virtual presence of divine blessings all around.\n",
    "I could sense intervention to alleviate the people's pain, difficulties and problems.\n",
    "The integrated effect of this place is how a Guru can integrate both spiritual and material wealth.\n",
    "\n",
    "When I was thinking what thoughts I could share with you, young graduates, a beautiful divine message was ringing in me:\n",
    "\"Where there is righteousness in the heart\n",
    " There is a beauty in the character.\n",
    " When there is beauty in the character,\n",
    " There is harmony in the home.\n",
    " When there is harmony in the home,\n",
    " There is order in the nation.\n",
    " When there is order in the nation,\n",
    " There is peace in the world.\"\n",
    "\n",
    "Thinking is progress. Non-thinking is destruction to the individual, organization and the country.\n",
    "Thinking leads to action. Knowledge without action is useless and irrelevant.\n",
    "Knowledge with action brings prosperity.\n",
    "\n",
    "I would like you, dear youth, to have a mind to explore every aspect of human life.\n",
    "Look at the sky. We are not alone. The whole universe is friendly to us and conspires to give the best to those who dream.\n",
    "Like Chandrasekhar Subramaniam discovered the black hole using Chandrasekhar's limit.\n",
    "Like Sir C.V. Raman looked at the sea and questioned why it is blue, leading to the Raman Effect.\n",
    "Like Albert Einstein, armed with the complexity of the universe, asked questions about its nature and arrived at E = mc².\n",
    "\n",
    "To become a developed India, the essential needs are:\n",
    "(a) India has to be economically and commercially powerful, aiming for 9% annual GDP growth and near-zero poverty.\n",
    "(b) Near self-reliance in defence equipment with no umbilical attached to the outside world.\n",
    "(c) India should have a right place in world forums.\n",
    "\n",
    "Technology Vision 2020 is a pathway to realise this cherished mission.\n",
    "We have identified five areas for integrated action:\n",
    "  1. Agriculture and food processing\n",
    "  2. Reliable and quality electric power for all parts of the country\n",
    "  3. Education and Healthcare\n",
    "  4. Information Communication Technology\n",
    "  5. Strategic sectors (nuclear, space, defence, advanced sensors and materials)\n",
    "\n",
    "These five areas are closely inter-related and will lead to national, food, and economic security.\n",
    "A strong partnership among R&D, academia, industry, the community, and government will be essential to accomplish the vision.\n",
    "\"\"\""
   ]
  },
  {
   "cell_type": "code",
   "execution_count": 37,
   "metadata": {},
   "outputs": [],
   "source": [
    "from nltk.stem import PorterStemmer\n",
    "from nltk.corpus import stopwords"
   ]
  },
  {
   "cell_type": "code",
   "execution_count": 38,
   "metadata": {},
   "outputs": [
    {
     "name": "stderr",
     "output_type": "stream",
     "text": [
      "[nltk_data] Downloading package stopwords to\n",
      "[nltk_data]     C:\\Users\\PC\\AppData\\Roaming\\nltk_data...\n",
      "[nltk_data]   Package stopwords is already up-to-date!\n"
     ]
    },
    {
     "data": {
      "text/plain": [
       "True"
      ]
     },
     "execution_count": 38,
     "metadata": {},
     "output_type": "execute_result"
    }
   ],
   "source": [
    "import nltk\n",
    "nltk.download('stopwords')"
   ]
  },
  {
   "cell_type": "code",
   "execution_count": 34,
   "metadata": {},
   "outputs": [
    {
     "data": {
      "text/plain": [
       "['a',\n",
       " 'about',\n",
       " 'above',\n",
       " 'after',\n",
       " 'again',\n",
       " 'against',\n",
       " 'ain',\n",
       " 'all',\n",
       " 'am',\n",
       " 'an',\n",
       " 'and',\n",
       " 'any',\n",
       " 'are',\n",
       " 'aren',\n",
       " \"aren't\",\n",
       " 'as',\n",
       " 'at',\n",
       " 'be',\n",
       " 'because',\n",
       " 'been',\n",
       " 'before',\n",
       " 'being',\n",
       " 'below',\n",
       " 'between',\n",
       " 'both',\n",
       " 'but',\n",
       " 'by',\n",
       " 'can',\n",
       " 'couldn',\n",
       " \"couldn't\",\n",
       " 'd',\n",
       " 'did',\n",
       " 'didn',\n",
       " \"didn't\",\n",
       " 'do',\n",
       " 'does',\n",
       " 'doesn',\n",
       " \"doesn't\",\n",
       " 'doing',\n",
       " 'don',\n",
       " \"don't\",\n",
       " 'down',\n",
       " 'during',\n",
       " 'each',\n",
       " 'few',\n",
       " 'for',\n",
       " 'from',\n",
       " 'further',\n",
       " 'had',\n",
       " 'hadn',\n",
       " \"hadn't\",\n",
       " 'has',\n",
       " 'hasn',\n",
       " \"hasn't\",\n",
       " 'have',\n",
       " 'haven',\n",
       " \"haven't\",\n",
       " 'having',\n",
       " 'he',\n",
       " \"he'd\",\n",
       " \"he'll\",\n",
       " 'her',\n",
       " 'here',\n",
       " 'hers',\n",
       " 'herself',\n",
       " \"he's\",\n",
       " 'him',\n",
       " 'himself',\n",
       " 'his',\n",
       " 'how',\n",
       " 'i',\n",
       " \"i'd\",\n",
       " 'if',\n",
       " \"i'll\",\n",
       " \"i'm\",\n",
       " 'in',\n",
       " 'into',\n",
       " 'is',\n",
       " 'isn',\n",
       " \"isn't\",\n",
       " 'it',\n",
       " \"it'd\",\n",
       " \"it'll\",\n",
       " \"it's\",\n",
       " 'its',\n",
       " 'itself',\n",
       " \"i've\",\n",
       " 'just',\n",
       " 'll',\n",
       " 'm',\n",
       " 'ma',\n",
       " 'me',\n",
       " 'mightn',\n",
       " \"mightn't\",\n",
       " 'more',\n",
       " 'most',\n",
       " 'mustn',\n",
       " \"mustn't\",\n",
       " 'my',\n",
       " 'myself',\n",
       " 'needn',\n",
       " \"needn't\",\n",
       " 'no',\n",
       " 'nor',\n",
       " 'not',\n",
       " 'now',\n",
       " 'o',\n",
       " 'of',\n",
       " 'off',\n",
       " 'on',\n",
       " 'once',\n",
       " 'only',\n",
       " 'or',\n",
       " 'other',\n",
       " 'our',\n",
       " 'ours',\n",
       " 'ourselves',\n",
       " 'out',\n",
       " 'over',\n",
       " 'own',\n",
       " 're',\n",
       " 's',\n",
       " 'same',\n",
       " 'shan',\n",
       " \"shan't\",\n",
       " 'she',\n",
       " \"she'd\",\n",
       " \"she'll\",\n",
       " \"she's\",\n",
       " 'should',\n",
       " 'shouldn',\n",
       " \"shouldn't\",\n",
       " \"should've\",\n",
       " 'so',\n",
       " 'some',\n",
       " 'such',\n",
       " 't',\n",
       " 'than',\n",
       " 'that',\n",
       " \"that'll\",\n",
       " 'the',\n",
       " 'their',\n",
       " 'theirs',\n",
       " 'them',\n",
       " 'themselves',\n",
       " 'then',\n",
       " 'there',\n",
       " 'these',\n",
       " 'they',\n",
       " \"they'd\",\n",
       " \"they'll\",\n",
       " \"they're\",\n",
       " \"they've\",\n",
       " 'this',\n",
       " 'those',\n",
       " 'through',\n",
       " 'to',\n",
       " 'too',\n",
       " 'under',\n",
       " 'until',\n",
       " 'up',\n",
       " 've',\n",
       " 'very',\n",
       " 'was',\n",
       " 'wasn',\n",
       " \"wasn't\",\n",
       " 'we',\n",
       " \"we'd\",\n",
       " \"we'll\",\n",
       " \"we're\",\n",
       " 'were',\n",
       " 'weren',\n",
       " \"weren't\",\n",
       " \"we've\",\n",
       " 'what',\n",
       " 'when',\n",
       " 'where',\n",
       " 'which',\n",
       " 'while',\n",
       " 'who',\n",
       " 'whom',\n",
       " 'why',\n",
       " 'will',\n",
       " 'with',\n",
       " 'won',\n",
       " \"won't\",\n",
       " 'wouldn',\n",
       " \"wouldn't\",\n",
       " 'y',\n",
       " 'you',\n",
       " \"you'd\",\n",
       " \"you'll\",\n",
       " 'your',\n",
       " \"you're\",\n",
       " 'yours',\n",
       " 'yourself',\n",
       " 'yourselves',\n",
       " \"you've\"]"
      ]
     },
     "execution_count": 34,
     "metadata": {},
     "output_type": "execute_result"
    }
   ],
   "source": [
    "stopwords.words('english')\n"
   ]
  },
  {
   "cell_type": "code",
   "execution_count": 22,
   "metadata": {},
   "outputs": [],
   "source": [
    "# tokenize the paragraph-> sentence -> words\n",
    "# check it falls in stopwords if not then apply stemming\n",
    "# join the words converting words into sentence"
   ]
  },
  {
   "cell_type": "code",
   "execution_count": 23,
   "metadata": {},
   "outputs": [
    {
     "name": "stdout",
     "output_type": "stream",
     "text": [
      "['\\nI am indeed delighted to participate in the 21st Convocation of Sri Sathya Sai Institute of Higher Learning.', 'I take this opportunity to congratulate the young graduates for their achievement.', 'I greet the Vice Chancellor, Professors, teachers and staff for the excellent contribution in shaping young minds to contribute to the nation in multiple fields.', 'It is a great honour for me that the Chancellor, Swamiji, has given me this opportunity to share my thoughts at this Convocation.', 'Is value based education possible?', 'Sri Sathya Sai Institute of Higher Learning has given an answer in the affirmative.', 'Our ultimate goal is: all human beings should be prosperous and should have all forms of security like food security, social security and future security of their children.', 'How to achieve them?', 'How can a nation be secured from external and internal problems?', 'National security and economic prosperity are interconnected.', 'Sathyam, Dharma, Shanti and Prema are the eternal human values.', \"Efforts and endeavour are man's duty.\", \"Success or failure is God's domain.\", 'I can see in this campus high calibre graduates bubbling with creativity.', 'There is a virtual presence of divine blessings all around.', \"I could sense intervention to alleviate the people's pain, difficulties and problems.\", 'The integrated effect of this place is how a Guru can integrate both spiritual and material wealth.', 'When I was thinking what thoughts I could share with you, young graduates, a beautiful divine message was ringing in me:\\n\"Where there is righteousness in the heart\\n There is a beauty in the character.', 'When there is beauty in the character,\\n There is harmony in the home.', 'When there is harmony in the home,\\n There is order in the nation.', 'When there is order in the nation,\\n There is peace in the world.\"', 'Thinking is progress.', 'Non-thinking is destruction to the individual, organization and the country.', 'Thinking leads to action.', 'Knowledge without action is useless and irrelevant.', 'Knowledge with action brings prosperity.', 'I would like you, dear youth, to have a mind to explore every aspect of human life.', 'Look at the sky.', 'We are not alone.', 'The whole universe is friendly to us and conspires to give the best to those who dream.', \"Like Chandrasekhar Subramaniam discovered the black hole using Chandrasekhar's limit.\", 'Like Sir C.V. Raman looked at the sea and questioned why it is blue, leading to the Raman Effect.', 'Like Albert Einstein, armed with the complexity of the universe, asked questions about its nature and arrived at E = mc².', 'To become a developed India, the essential needs are:\\n(a) India has to be economically and commercially powerful, aiming for 9% annual GDP growth and near-zero poverty.', '(b) Near self-reliance in defence equipment with no umbilical attached to the outside world.', '(c) India should have a right place in world forums.', 'Technology Vision 2020 is a pathway to realise this cherished mission.', 'We have identified five areas for integrated action:\\n  1.', 'Agriculture and food processing\\n  2.', 'Reliable and quality electric power for all parts of the country\\n  3.', 'Education and Healthcare\\n  4.', 'Information Communication Technology\\n  5.', 'Strategic sectors (nuclear, space, defence, advanced sensors and materials)\\n\\nThese five areas are closely inter-related and will lead to national, food, and economic security.', 'A strong partnership among R&D, academia, industry, the community, and government will be essential to accomplish the vision.']\n"
     ]
    }
   ],
   "source": [
    "from nltk.stem import PorterStemmer\n",
    "from nltk.tokenize import sent_tokenize,word_tokenize\n",
    "stemmer=PorterStemmer()\n",
    "\n",
    "sentences=sent_tokenize(pargraph)\n",
    "print(sentences)\n",
    "\n"
   ]
  },
  {
   "cell_type": "code",
   "execution_count": 25,
   "metadata": {},
   "outputs": [],
   "source": [
    "for i in range(len(sentences)):\n",
    "    # tokenize the sentence into words\n",
    "    words=word_tokenize(sentences[i])\n",
    "    words=[stemmer.stem(word) for word in words if word not in set(stopwords.words('english'))]\n",
    "    sentences[i]=' '.join(words)"
   ]
  },
  {
   "cell_type": "code",
   "execution_count": 26,
   "metadata": {},
   "outputs": [
    {
     "data": {
      "text/plain": [
       "['i inde delight particip 21st convoc sri sathya sai institut higher learn .',\n",
       " 'i take opportun congratul young graduat achiev .',\n",
       " 'i greet vice chancellor , professor , teacher staff excel contribut shape young mind contribut nation multipl field .',\n",
       " 'it great honour chancellor , swamiji , given opportun share thought convoc .',\n",
       " 'is valu base educ possibl ?',\n",
       " 'sri sathya sai institut higher learn given answer affirm .',\n",
       " 'our ultim goal : human be prosper form secur like food secur , social secur futur secur children .',\n",
       " 'how achiev ?',\n",
       " 'how nation secur extern intern problem ?',\n",
       " 'nation secur econom prosper interconnect .',\n",
       " 'sathyam , dharma , shanti prema etern human valu .',\n",
       " \"effort endeavour man 's duti .\",\n",
       " \"success failur god 's domain .\",\n",
       " 'i see campu high calibr graduat bubbl creativ .',\n",
       " 'there virtual presenc divin bless around .',\n",
       " \"i could sens intervent allevi peopl 's pain , difficulti problem .\",\n",
       " 'the integr effect place guru integr spiritu materi wealth .',\n",
       " \"when i think thought i could share , young graduat , beauti divin messag ring : '' where righteous heart there beauti charact .\",\n",
       " 'when beauti charact , there harmoni home .',\n",
       " 'when harmoni home , there order nation .',\n",
       " \"when order nation , there peac world . ''\",\n",
       " 'think progress .',\n",
       " 'non-think destruct individu , organ countri .',\n",
       " 'think lead action .',\n",
       " 'knowledg without action useless irrelev .',\n",
       " 'knowledg action bring prosper .',\n",
       " 'i would like , dear youth , mind explor everi aspect human life .',\n",
       " 'look sky .',\n",
       " 'we alon .',\n",
       " 'the whole univers friendli us conspir give best dream .',\n",
       " \"like chandrasekhar subramaniam discov black hole use chandrasekhar 's limit .\",\n",
       " 'like sir c.v. raman look sea question blue , lead raman effect .',\n",
       " 'like albert einstein , arm complex univers , ask question natur arriv e = mc² .',\n",
       " 'to becom develop india , essenti need : ( ) india econom commerci power , aim 9 % annual gdp growth near-zero poverti .',\n",
       " '( b ) near self-reli defenc equip umbil attach outsid world .',\n",
       " '( c ) india right place world forum .',\n",
       " 'technolog vision 2020 pathway realis cherish mission .',\n",
       " 'we identifi five area integr action : 1 .',\n",
       " 'agricultur food process 2 .',\n",
       " 'reliabl qualiti electr power part countri 3 .',\n",
       " 'educ healthcar 4 .',\n",
       " 'inform commun technolog 5 .',\n",
       " 'strateg sector ( nuclear , space , defenc , advanc sensor materi ) these five area close inter-rel lead nation , food , econom secur .',\n",
       " 'a strong partnership among r & d , academia , industri , commun , govern essenti accomplish vision .']"
      ]
     },
     "execution_count": 26,
     "metadata": {},
     "output_type": "execute_result"
    }
   ],
   "source": [
    "sentences"
   ]
  },
  {
   "cell_type": "code",
   "execution_count": 40,
   "metadata": {},
   "outputs": [
    {
     "name": "stdout",
     "output_type": "stream",
     "text": [
      "['\\nI am indeed delighted to participate in the 21st Convocation of Sri Sathya Sai Institute of Higher Learning.', 'I take this opportunity to congratulate the young graduates for their achievement.', 'I greet the Vice Chancellor, Professors, teachers and staff for the excellent contribution in shaping young minds to contribute to the nation in multiple fields.', 'It is a great honour for me that the Chancellor, Swamiji, has given me this opportunity to share my thoughts at this Convocation.', 'Is value based education possible?', 'Sri Sathya Sai Institute of Higher Learning has given an answer in the affirmative.', 'Our ultimate goal is: all human beings should be prosperous and should have all forms of security like food security, social security and future security of their children.', 'How to achieve them?', 'How can a nation be secured from external and internal problems?', 'National security and economic prosperity are interconnected.', 'Sathyam, Dharma, Shanti and Prema are the eternal human values.', \"Efforts and endeavour are man's duty.\", \"Success or failure is God's domain.\", 'I can see in this campus high calibre graduates bubbling with creativity.', 'There is a virtual presence of divine blessings all around.', \"I could sense intervention to alleviate the people's pain, difficulties and problems.\", 'The integrated effect of this place is how a Guru can integrate both spiritual and material wealth.', 'When I was thinking what thoughts I could share with you, young graduates, a beautiful divine message was ringing in me:\\n\"Where there is righteousness in the heart\\n There is a beauty in the character.', 'When there is beauty in the character,\\n There is harmony in the home.', 'When there is harmony in the home,\\n There is order in the nation.', 'When there is order in the nation,\\n There is peace in the world.\"', 'Thinking is progress.', 'Non-thinking is destruction to the individual, organization and the country.', 'Thinking leads to action.', 'Knowledge without action is useless and irrelevant.', 'Knowledge with action brings prosperity.', 'I would like you, dear youth, to have a mind to explore every aspect of human life.', 'Look at the sky.', 'We are not alone.', 'The whole universe is friendly to us and conspires to give the best to those who dream.', \"Like Chandrasekhar Subramaniam discovered the black hole using Chandrasekhar's limit.\", 'Like Sir C.V. Raman looked at the sea and questioned why it is blue, leading to the Raman Effect.', 'Like Albert Einstein, armed with the complexity of the universe, asked questions about its nature and arrived at E = mc².', 'To become a developed India, the essential needs are:\\n(a) India has to be economically and commercially powerful, aiming for 9% annual GDP growth and near-zero poverty.', '(b) Near self-reliance in defence equipment with no umbilical attached to the outside world.', '(c) India should have a right place in world forums.', 'Technology Vision 2020 is a pathway to realise this cherished mission.', 'We have identified five areas for integrated action:\\n  1.', 'Agriculture and food processing\\n  2.', 'Reliable and quality electric power for all parts of the country\\n  3.', 'Education and Healthcare\\n  4.', 'Information Communication Technology\\n  5.', 'Strategic sectors (nuclear, space, defence, advanced sensors and materials)\\n\\nThese five areas are closely inter-related and will lead to national, food, and economic security.', 'A strong partnership among R&D, academia, industry, the community, and government will be essential to accomplish the vision.']\n"
     ]
    }
   ],
   "source": [
    "sentences2=sent_tokenize(pargraph)\n",
    "print(sentences2)"
   ]
  },
  {
   "cell_type": "code",
   "execution_count": 41,
   "metadata": {},
   "outputs": [],
   "source": [
    "from nltk.stem import SnowballStemmer\n",
    "snowstem=SnowballStemmer('english')\n",
    "for i in range(len(sentences2)):\n",
    "    # tokenize the sentence into words\n",
    "    words=word_tokenize(sentences2[i])\n",
    "    words=[snowstem.stem(word) for word in words if word not in set(stopwords.words('english'))]\n",
    "    sentences2[i]=' '.join(words)"
   ]
  },
  {
   "cell_type": "code",
   "execution_count": 42,
   "metadata": {},
   "outputs": [
    {
     "data": {
      "text/plain": [
       "['i inde delight particip 21st convoc sri sathya sai institut higher learn .',\n",
       " 'i take opportun congratul young graduat achiev .',\n",
       " 'i greet vice chancellor , professor , teacher staff excel contribut shape young mind contribut nation multipl field .',\n",
       " 'it great honour chancellor , swamiji , given opportun share thought convoc .',\n",
       " 'is valu base educ possibl ?',\n",
       " 'sri sathya sai institut higher learn given answer affirm .',\n",
       " 'our ultim goal : human be prosper form secur like food secur , social secur futur secur children .',\n",
       " 'how achiev ?',\n",
       " 'how nation secur extern intern problem ?',\n",
       " 'nation secur econom prosper interconnect .',\n",
       " 'sathyam , dharma , shanti prema etern human valu .',\n",
       " \"effort endeavour man 's duti .\",\n",
       " \"success failur god 's domain .\",\n",
       " 'i see campus high calibr graduat bubbl creativ .',\n",
       " 'there virtual presenc divin bless around .',\n",
       " \"i could sens intervent allevi peopl 's pain , difficulti problem .\",\n",
       " 'the integr effect place guru integr spiritu materi wealth .',\n",
       " \"when i think thought i could share , young graduat , beauti divin messag ring : '' where righteous heart there beauti charact .\",\n",
       " 'when beauti charact , there harmoni home .',\n",
       " 'when harmoni home , there order nation .',\n",
       " \"when order nation , there peac world . ''\",\n",
       " 'think progress .',\n",
       " 'non-think destruct individu , organ countri .',\n",
       " 'think lead action .',\n",
       " 'knowledg without action useless irrelev .',\n",
       " 'knowledg action bring prosper .',\n",
       " 'i would like , dear youth , mind explor everi aspect human life .',\n",
       " 'look sky .',\n",
       " 'we alon .',\n",
       " 'the whole univers friend us conspir give best dream .',\n",
       " \"like chandrasekhar subramaniam discov black hole use chandrasekhar 's limit .\",\n",
       " 'like sir c.v. raman look sea question blue , lead raman effect .',\n",
       " 'like albert einstein , arm complex univers , ask question natur arriv e = mc² .',\n",
       " 'to becom develop india , essenti need : ( ) india econom commerci power , aim 9 % annual gdp growth near-zero poverti .',\n",
       " '( b ) near self-reli defenc equip umbil attach outsid world .',\n",
       " '( c ) india right place world forum .',\n",
       " 'technolog vision 2020 pathway realis cherish mission .',\n",
       " 'we identifi five area integr action : 1 .',\n",
       " 'agricultur food process 2 .',\n",
       " 'reliabl qualiti electr power part countri 3 .',\n",
       " 'educ healthcar 4 .',\n",
       " 'inform communic technolog 5 .',\n",
       " 'strateg sector ( nuclear , space , defenc , advanc sensor materi ) these five area close inter-rel lead nation , food , econom secur .',\n",
       " 'a strong partnership among r & d , academia , industri , communiti , govern essenti accomplish vision .']"
      ]
     },
     "execution_count": 42,
     "metadata": {},
     "output_type": "execute_result"
    }
   ],
   "source": [
    "sentences2"
   ]
  },
  {
   "cell_type": "markdown",
   "metadata": {},
   "source": [
    "# lets do with lemmatization"
   ]
  },
  {
   "cell_type": "code",
   "execution_count": 43,
   "metadata": {},
   "outputs": [],
   "source": [
    "from nltk.stem import WordNetLemmatizer\n",
    "\n",
    "lemma=WordNetLemmatizer()\n"
   ]
  },
  {
   "cell_type": "code",
   "execution_count": 44,
   "metadata": {},
   "outputs": [
    {
     "name": "stderr",
     "output_type": "stream",
     "text": [
      "[nltk_data] Downloading package wordnet to\n",
      "[nltk_data]     C:\\Users\\PC\\AppData\\Roaming\\nltk_data...\n",
      "[nltk_data]   Package wordnet is already up-to-date!\n"
     ]
    },
    {
     "data": {
      "text/plain": [
       "True"
      ]
     },
     "execution_count": 44,
     "metadata": {},
     "output_type": "execute_result"
    }
   ],
   "source": [
    "nltk.download('wordnet')"
   ]
  },
  {
   "cell_type": "code",
   "execution_count": 46,
   "metadata": {},
   "outputs": [
    {
     "name": "stdout",
     "output_type": "stream",
     "text": [
      "['\\nI am indeed delighted to participate in the 21st Convocation of Sri Sathya Sai Institute of Higher Learning.', 'I take this opportunity to congratulate the young graduates for their achievement.', 'I greet the Vice Chancellor, Professors, teachers and staff for the excellent contribution in shaping young minds to contribute to the nation in multiple fields.', 'It is a great honour for me that the Chancellor, Swamiji, has given me this opportunity to share my thoughts at this Convocation.', 'Is value based education possible?', 'Sri Sathya Sai Institute of Higher Learning has given an answer in the affirmative.', 'Our ultimate goal is: all human beings should be prosperous and should have all forms of security like food security, social security and future security of their children.', 'How to achieve them?', 'How can a nation be secured from external and internal problems?', 'National security and economic prosperity are interconnected.', 'Sathyam, Dharma, Shanti and Prema are the eternal human values.', \"Efforts and endeavour are man's duty.\", \"Success or failure is God's domain.\", 'I can see in this campus high calibre graduates bubbling with creativity.', 'There is a virtual presence of divine blessings all around.', \"I could sense intervention to alleviate the people's pain, difficulties and problems.\", 'The integrated effect of this place is how a Guru can integrate both spiritual and material wealth.', 'When I was thinking what thoughts I could share with you, young graduates, a beautiful divine message was ringing in me:\\n\"Where there is righteousness in the heart\\n There is a beauty in the character.', 'When there is beauty in the character,\\n There is harmony in the home.', 'When there is harmony in the home,\\n There is order in the nation.', 'When there is order in the nation,\\n There is peace in the world.\"', 'Thinking is progress.', 'Non-thinking is destruction to the individual, organization and the country.', 'Thinking leads to action.', 'Knowledge without action is useless and irrelevant.', 'Knowledge with action brings prosperity.', 'I would like you, dear youth, to have a mind to explore every aspect of human life.', 'Look at the sky.', 'We are not alone.', 'The whole universe is friendly to us and conspires to give the best to those who dream.', \"Like Chandrasekhar Subramaniam discovered the black hole using Chandrasekhar's limit.\", 'Like Sir C.V. Raman looked at the sea and questioned why it is blue, leading to the Raman Effect.', 'Like Albert Einstein, armed with the complexity of the universe, asked questions about its nature and arrived at E = mc².', 'To become a developed India, the essential needs are:\\n(a) India has to be economically and commercially powerful, aiming for 9% annual GDP growth and near-zero poverty.', '(b) Near self-reliance in defence equipment with no umbilical attached to the outside world.', '(c) India should have a right place in world forums.', 'Technology Vision 2020 is a pathway to realise this cherished mission.', 'We have identified five areas for integrated action:\\n  1.', 'Agriculture and food processing\\n  2.', 'Reliable and quality electric power for all parts of the country\\n  3.', 'Education and Healthcare\\n  4.', 'Information Communication Technology\\n  5.', 'Strategic sectors (nuclear, space, defence, advanced sensors and materials)\\n\\nThese five areas are closely inter-related and will lead to national, food, and economic security.', 'A strong partnership among R&D, academia, industry, the community, and government will be essential to accomplish the vision.']\n"
     ]
    }
   ],
   "source": [
    "sentences3=sent_tokenize(pargraph)\n",
    "print(sentences3)\n"
   ]
  },
  {
   "cell_type": "code",
   "execution_count": 51,
   "metadata": {},
   "outputs": [],
   "source": [
    "for i in range(len(sentences3)):\n",
    "    # make the sentence to lower case because lemmatization is not making it lower case\n",
    "    # sentences3[i]=sentences3[i].lower()\n",
    "    # tokenize the sentence into words\n",
    "    words=word_tokenize(sentences3[i])\n",
    "    words=[lemma.lemmatize(word.lower(),pos='v') for word in words if word not in set(stopwords.words('english'))]\n",
    "    sentences3[i]=' '.join(words)"
   ]
  },
  {
   "cell_type": "code",
   "execution_count": 52,
   "metadata": {},
   "outputs": [
    {
     "data": {
      "text/plain": [
       "['i indeed delight participate 21st convocation sri sathya sai institute higher learn .',\n",
       " 'i take opportunity congratulate young graduate achievement .',\n",
       " 'i greet vice chancellor , professors , teacher staff excellent contribution shape young mind contribute nation multiple field .',\n",
       " 'it great honour chancellor , swamiji , give opportunity share think convocation .',\n",
       " 'be value base education possible ?',\n",
       " 'sri sathya sai institute higher learn give answer affirmative .',\n",
       " 'our ultimate goal : human prosperous form security like food security , social security future security child .',\n",
       " 'how achieve ?',\n",
       " 'how nation secure external internal problem ?',\n",
       " 'national security economic prosperity interconnect .',\n",
       " 'sathyam , dharma , shanti prema eternal human value .',\n",
       " \"efforts endeavour man 's duty .\",\n",
       " \"success failure god 's domain .\",\n",
       " 'i see campus high calibre graduate bubble creativity .',\n",
       " 'there virtual presence divine bless around .',\n",
       " \"i could sense intervention alleviate people 's pain , difficulty problem .\",\n",
       " 'the integrate effect place guru integrate spiritual material wealth .',\n",
       " 'when i think think i could share , young graduate , beautiful divine message ring : `` where righteousness heart there beauty character .',\n",
       " 'when beauty character , there harmony home .',\n",
       " 'when harmony home , there order nation .',\n",
       " 'when order nation , there peace world . ``',\n",
       " 'think progress .',\n",
       " 'non-thinking destruction individual , organization country .',\n",
       " 'think lead action .',\n",
       " 'knowledge without action useless irrelevant .',\n",
       " 'knowledge action bring prosperity .',\n",
       " 'i would like , dear youth , mind explore every aspect human life .',\n",
       " 'look sky .',\n",
       " 'we alone .',\n",
       " 'the whole universe friendly u conspire give best dream .',\n",
       " \"like chandrasekhar subramaniam discover black hole use chandrasekhar 's limit .\",\n",
       " 'like sir c.v. raman look sea question blue , lead raman effect .',\n",
       " 'like albert einstein , arm complexity universe , ask question nature arrive e = mc² .',\n",
       " 'to become develop india , essential need : ( ) india economically commercially powerful , aim 9 % annual gdp growth near-zero poverty .',\n",
       " '( b ) near self-reliance defence equipment umbilical attach outside world .',\n",
       " '( c ) india right place world forum .',\n",
       " 'technology vision 2020 pathway realise cherish mission .',\n",
       " 'we identify five area integrate action : 1 .',\n",
       " 'agriculture food process 2 .',\n",
       " 'reliable quality electric power part country 3 .',\n",
       " 'education healthcare 4 .',\n",
       " 'information communication technology 5 .',\n",
       " 'strategic sector ( nuclear , space , defence , advance sensor material ) these five area closely inter-related lead national , food , economic security .',\n",
       " 'a strong partnership among r & d , academia , industry , community , government essential accomplish vision .']"
      ]
     },
     "execution_count": 52,
     "metadata": {},
     "output_type": "execute_result"
    }
   ],
   "source": [
    "sentences3"
   ]
  },
  {
   "cell_type": "code",
   "execution_count": null,
   "metadata": {},
   "outputs": [],
   "source": []
  }
 ],
 "metadata": {
  "kernelspec": {
   "display_name": "venv",
   "language": "python",
   "name": "python3"
  },
  "language_info": {
   "codemirror_mode": {
    "name": "ipython",
    "version": 3
   },
   "file_extension": ".py",
   "mimetype": "text/x-python",
   "name": "python",
   "nbconvert_exporter": "python",
   "pygments_lexer": "ipython3",
   "version": "3.13.2"
  }
 },
 "nbformat": 4,
 "nbformat_minor": 2
}
