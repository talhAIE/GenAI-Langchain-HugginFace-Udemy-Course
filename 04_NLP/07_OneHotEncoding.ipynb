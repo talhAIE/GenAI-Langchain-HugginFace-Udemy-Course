{
 "cells": [
  {
   "cell_type": "markdown",
   "metadata": {},
   "source": [
    "# OneHotEncoding (text->vectors)\n",
    "\n",
    "\n"
   ]
  },
  {
   "cell_type": "markdown",
   "metadata": {},
   "source": [
    "## Advantage and Disadvantage\n",
    "\n",
    "### Advantage:\n",
    "* easy to implement using python (scikit learn and pandas)\n",
    "\n",
    "### Disadvantage:\n",
    "* Sparse Matrix (matrix with most of element are zeros) -> leads to overfitting\n",
    "* Not fixed text size input (matrix dimention not same) for ML algorithm we need fixed size input\n",
    "* no Semantic Meaning is getting captured \n",
    "* out of vocabulary (OOV)\n"
   ]
  }
 ],
 "metadata": {
  "kernelspec": {
   "display_name": "venv",
   "language": "python",
   "name": "python3"
  },
  "language_info": {
   "name": "python",
   "version": "3.13.2"
  }
 },
 "nbformat": 4,
 "nbformat_minor": 2
}
