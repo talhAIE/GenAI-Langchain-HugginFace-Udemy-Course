{
 "cells": [
  {
   "cell_type": "markdown",
   "metadata": {},
   "source": [
    "# Bag Of Words (BOW)\n",
    "\n",
    "Bag of Words (BoW) is a fundamental technique used in Natural Language Processing (NLP) to convert text into numerical features that machine learning models can understand."
   ]
  },
  {
   "cell_type": "markdown",
   "metadata": {},
   "source": [
    "🔍 What is it?\n",
    "Bag of Words is a text representation method that:\n",
    "\n",
    "Treats each document (or sentence) as a \"bag\" of its words.\n",
    "\n",
    "Ignores grammar, word order, and syntax.\n",
    "\n",
    "Focuses only on word occurrence/frequency."
   ]
  },
  {
   "cell_type": "markdown",
   "metadata": {},
   "source": [
    "🛠️ How it works:\n",
    "Suppose you have two sentences:\n",
    "\n",
    "\"The cat sat on the mat\"\n",
    "\n",
    "\"The dog sat on the log\"\n",
    "\n",
    "Step 1: Vocabulary Creation\n",
    "Create a list of unique words from all documents:\n",
    "[\"The\", \"cat\", \"sat\", \"on\", \"the\", \"mat\", \"dog\", \"log\"]\n",
    "\n",
    "(Sometimes all lowercase and stopwords like \"the\", \"on\" are removed — optional)\n",
    "\n",
    "Step 2: Vectorization\n",
    "Convert each sentence into a vector based on word counts:"
   ]
  },
  {
   "cell_type": "markdown",
   "metadata": {},
   "source": [
    " Key Points:\n",
    "Simple and fast\n",
    "\n",
    "High-dimensional for large vocabularies\n",
    "\n",
    "Doesn’t capture context or word meaning\n",
    "\n",
    "Often used with TF-IDF to adjust word importance"
   ]
  },
  {
   "cell_type": "markdown",
   "metadata": {},
   "source": [
    "### OHE (represent each word in vector)\n",
    "### BOW (represent each sentence/document in vector)"
   ]
  },
  {
   "cell_type": "markdown",
   "metadata": {},
   "source": [
    "binary bag for words (1 and 0)\n",
    "bag of words (count increase based on frequency)"
   ]
  },
  {
   "cell_type": "markdown",
   "metadata": {},
   "source": [
    "# Advantage and Disadvantage of BOW\n",
    "\n",
    "## Advantages\n",
    "* simple and inituitive\n",
    "* Fixed size input (helps Ml algo in Training)\n",
    "\n",
    "## Disadvantages\n",
    "* Sparse Matrix or array still there lead to overfitting\n",
    "* odering of the word is getting changed (meaning of the sentance is changed)\n",
    "* Semantic Meaning is still not capturing \n"
   ]
  }
 ],
 "metadata": {
  "kernelspec": {
   "display_name": "venv",
   "language": "python",
   "name": "python3"
  },
  "language_info": {
   "name": "python",
   "version": "3.13.2"
  }
 },
 "nbformat": 4,
 "nbformat_minor": 2
}
