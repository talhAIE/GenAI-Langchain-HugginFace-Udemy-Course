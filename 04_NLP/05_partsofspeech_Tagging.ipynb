{
 "cells": [
  {
   "cell_type": "markdown",
   "metadata": {},
   "source": [
    "Part-of-speech (POS) tagging is the process of assigning each word in a text its corresponding part of speech (e.g., noun, verb, adjective), often with fine-grained subcategories. It’s a core step in many NLP pipelines because it adds syntactic information that downstream tasks (parsing, information extraction, etc.) can leverage."
   ]
  },
  {
   "cell_type": "code",
   "execution_count": 44,
   "metadata": {},
   "outputs": [],
   "source": [
    "# CC coordinating conjunction \n",
    "# CD cardinal digit \n",
    "# DT determiner \n",
    "# EX existential there (like: “there is” … think of it like “there exists”) \n",
    "# FW foreign word \n",
    "# IN preposition/subordinating conjunction \n",
    "# JJ adjective – ‘big’ \n",
    "# JJR adjective, comparative – ‘bigger’ \n",
    "# JJS adjective, superlative – ‘biggest’ \n",
    "# LS list marker 1) \n",
    "# MD modal – could, will \n",
    "# NN noun, singular ‘- desk’ \n",
    "# NNS noun plural – ‘desks’ \n",
    "# NNP proper noun, singular – ‘Harrison’ \n",
    "# NNPS proper noun, plural – ‘Americans’ \n",
    "# PDT predeterminer – ‘all the kids’ \n",
    "# POS possessive ending parent’s \n",
    "# PRP personal pronoun –  I, he, she \n",
    "# PRP$ possessive pronoun – my, his, hers \n",
    "# RB adverb – very, silently, \n",
    "# RBR adverb, comparative – better \n",
    "# RBS adverb, superlative – best \n",
    "# RP particle – give up \n",
    "# TO – to go ‘to’ the store. \n",
    "# UH interjection – errrrrrrrm \n",
    "# VB verb, base form – take \n",
    "# VBD verb, past tense – took \n",
    "# VBG verb, gerund/present participle – taking \n",
    "# VBN verb, past participle – taken \n",
    "# VBP verb, sing. present, non-3d – take \n",
    "# VBZ verb, 3rd person sing. present – takes \n",
    "# WDT wh-determiner – which \n",
    "# WP wh-pronoun – who, what \n",
    "# WP$ possessive wh-pronoun, eg- whose \n",
    "# WRB wh-adverb, eg- where, when"
   ]
  },
  {
   "cell_type": "code",
   "execution_count": 3,
   "metadata": {},
   "outputs": [],
   "source": [
    "pargraph= \"\"\"\n",
    "I am indeed delighted to participate in the 21st Convocation of Sri Sathya Sai Institute of Higher Learning.\n",
    "I take this opportunity to congratulate the young graduates for their achievement.\n",
    "I greet the Vice Chancellor, Professors, teachers and staff for the excellent contribution in shaping young minds to contribute to the nation in multiple fields.\n",
    "It is a great honour for me that the Chancellor, Swamiji, has given me this opportunity to share my thoughts at this Convocation.\n",
    "\n",
    "Is value based education possible? Sri Sathya Sai Institute of Higher Learning has given an answer in the affirmative.\n",
    "Our ultimate goal is: all human beings should be prosperous and should have all forms of security like food security, social security and future security of their children.\n",
    "How to achieve them? How can a nation be secured from external and internal problems?\n",
    "National security and economic prosperity are interconnected.\n",
    "\n",
    "Sathyam, Dharma, Shanti and Prema are the eternal human values.\n",
    "Efforts and endeavour are man's duty. Success or failure is God's domain.\n",
    "I can see in this campus high calibre graduates bubbling with creativity.\n",
    "There is a virtual presence of divine blessings all around.\n",
    "I could sense intervention to alleviate the people's pain, difficulties and problems.\n",
    "The integrated effect of this place is how a Guru can integrate both spiritual and material wealth.\n",
    "\n",
    "When I was thinking what thoughts I could share with you, young graduates, a beautiful divine message was ringing in me:\n",
    "\"Where there is righteousness in the heart\n",
    " There is a beauty in the character.\n",
    " When there is beauty in the character,\n",
    " There is harmony in the home.\n",
    " When there is harmony in the home,\n",
    " There is order in the nation.\n",
    " When there is order in the nation,\n",
    " There is peace in the world.\"\n",
    "\n",
    "Thinking is progress. Non-thinking is destruction to the individual, organization and the country.\n",
    "Thinking leads to action. Knowledge without action is useless and irrelevant.\n",
    "Knowledge with action brings prosperity.\n",
    "\n",
    "I would like you, dear youth, to have a mind to explore every aspect of human life.\n",
    "Look at the sky. We are not alone. The whole universe is friendly to us and conspires to give the best to those who dream.\n",
    "Like Chandrasekhar Subramaniam discovered the black hole using Chandrasekhar's limit.\n",
    "Like Sir C.V. Raman looked at the sea and questioned why it is blue, leading to the Raman Effect.\n",
    "Like Albert Einstein, armed with the complexity of the universe, asked questions about its nature and arrived at E = mc².\n",
    "\n",
    "To become a developed India, the essential needs are:\n",
    "(a) India has to be economically and commercially powerful, aiming for 9% annual GDP growth and near-zero poverty.\n",
    "(b) Near self-reliance in defence equipment with no umbilical attached to the outside world.\n",
    "(c) India should have a right place in world forums.\n",
    "\n",
    "Technology Vision 2020 is a pathway to realise this cherished mission.\n",
    "We have identified five areas for integrated action:\n",
    "  1. Agriculture and food processing\n",
    "  2. Reliable and quality electric power for all parts of the country\n",
    "  3. Education and Healthcare\n",
    "  4. Information Communication Technology\n",
    "  5. Strategic sectors (nuclear, space, defence, advanced sensors and materials)\n",
    "\n",
    "These five areas are closely inter-related and will lead to national, food, and economic security.\n",
    "A strong partnership among R&D, academia, industry, the community, and government will be essential to accomplish the vision.\n",
    "\"\"\""
   ]
  },
  {
   "cell_type": "code",
   "execution_count": 4,
   "metadata": {},
   "outputs": [],
   "source": [
    "import nltk\n",
    "from nltk.corpus import stopwords\n",
    "sentences=nltk.sent_tokenize(pargraph)"
   ]
  },
  {
   "cell_type": "code",
   "execution_count": 5,
   "metadata": {},
   "outputs": [
    {
     "data": {
      "text/plain": [
       "['\\nI am indeed delighted to participate in the 21st Convocation of Sri Sathya Sai Institute of Higher Learning.',\n",
       " 'I take this opportunity to congratulate the young graduates for their achievement.',\n",
       " 'I greet the Vice Chancellor, Professors, teachers and staff for the excellent contribution in shaping young minds to contribute to the nation in multiple fields.',\n",
       " 'It is a great honour for me that the Chancellor, Swamiji, has given me this opportunity to share my thoughts at this Convocation.',\n",
       " 'Is value based education possible?',\n",
       " 'Sri Sathya Sai Institute of Higher Learning has given an answer in the affirmative.',\n",
       " 'Our ultimate goal is: all human beings should be prosperous and should have all forms of security like food security, social security and future security of their children.',\n",
       " 'How to achieve them?',\n",
       " 'How can a nation be secured from external and internal problems?',\n",
       " 'National security and economic prosperity are interconnected.',\n",
       " 'Sathyam, Dharma, Shanti and Prema are the eternal human values.',\n",
       " \"Efforts and endeavour are man's duty.\",\n",
       " \"Success or failure is God's domain.\",\n",
       " 'I can see in this campus high calibre graduates bubbling with creativity.',\n",
       " 'There is a virtual presence of divine blessings all around.',\n",
       " \"I could sense intervention to alleviate the people's pain, difficulties and problems.\",\n",
       " 'The integrated effect of this place is how a Guru can integrate both spiritual and material wealth.',\n",
       " 'When I was thinking what thoughts I could share with you, young graduates, a beautiful divine message was ringing in me:\\n\"Where there is righteousness in the heart\\n There is a beauty in the character.',\n",
       " 'When there is beauty in the character,\\n There is harmony in the home.',\n",
       " 'When there is harmony in the home,\\n There is order in the nation.',\n",
       " 'When there is order in the nation,\\n There is peace in the world.\"',\n",
       " 'Thinking is progress.',\n",
       " 'Non-thinking is destruction to the individual, organization and the country.',\n",
       " 'Thinking leads to action.',\n",
       " 'Knowledge without action is useless and irrelevant.',\n",
       " 'Knowledge with action brings prosperity.',\n",
       " 'I would like you, dear youth, to have a mind to explore every aspect of human life.',\n",
       " 'Look at the sky.',\n",
       " 'We are not alone.',\n",
       " 'The whole universe is friendly to us and conspires to give the best to those who dream.',\n",
       " \"Like Chandrasekhar Subramaniam discovered the black hole using Chandrasekhar's limit.\",\n",
       " 'Like Sir C.V. Raman looked at the sea and questioned why it is blue, leading to the Raman Effect.',\n",
       " 'Like Albert Einstein, armed with the complexity of the universe, asked questions about its nature and arrived at E = mc².',\n",
       " 'To become a developed India, the essential needs are:\\n(a) India has to be economically and commercially powerful, aiming for 9% annual GDP growth and near-zero poverty.',\n",
       " '(b) Near self-reliance in defence equipment with no umbilical attached to the outside world.',\n",
       " '(c) India should have a right place in world forums.',\n",
       " 'Technology Vision 2020 is a pathway to realise this cherished mission.',\n",
       " 'We have identified five areas for integrated action:\\n  1.',\n",
       " 'Agriculture and food processing\\n  2.',\n",
       " 'Reliable and quality electric power for all parts of the country\\n  3.',\n",
       " 'Education and Healthcare\\n  4.',\n",
       " 'Information Communication Technology\\n  5.',\n",
       " 'Strategic sectors (nuclear, space, defence, advanced sensors and materials)\\n\\nThese five areas are closely inter-related and will lead to national, food, and economic security.',\n",
       " 'A strong partnership among R&D, academia, industry, the community, and government will be essential to accomplish the vision.']"
      ]
     },
     "execution_count": 5,
     "metadata": {},
     "output_type": "execute_result"
    }
   ],
   "source": [
    "sentences"
   ]
  },
  {
   "cell_type": "code",
   "execution_count": 6,
   "metadata": {},
   "outputs": [
    {
     "name": "stderr",
     "output_type": "stream",
     "text": [
      "[nltk_data] Downloading package punkt to C:\\Users\\PC/nltk_data...\n",
      "[nltk_data]   Package punkt is already up-to-date!\n",
      "[nltk_data] Downloading package stopwords to C:\\Users\\PC/nltk_data...\n",
      "[nltk_data]   Package stopwords is already up-to-date!\n",
      "[nltk_data] Downloading package averaged_perceptron_tagger_eng to\n",
      "[nltk_data]     C:\\Users\\PC/nltk_data...\n",
      "[nltk_data]   Package averaged_perceptron_tagger_eng is already up-to-\n",
      "[nltk_data]       date!\n"
     ]
    },
    {
     "data": {
      "text/plain": [
       "True"
      ]
     },
     "execution_count": 6,
     "metadata": {},
     "output_type": "execute_result"
    }
   ],
   "source": [
    "from nltk.corpus  import stopwords\n",
    "\n",
    "import nltk\n",
    "# Download and install the models into your nltk_data folder:\n",
    "nltk.download('punkt')                      # tokenizer\n",
    "nltk.download('stopwords')                  # stop-word lists\n",
    "nltk.download('averaged_perceptron_tagger_eng') # POS tagger model\n"
   ]
  },
  {
   "cell_type": "code",
   "execution_count": 7,
   "metadata": {},
   "outputs": [
    {
     "name": "stdout",
     "output_type": "stream",
     "text": [
      "[('I', 'PRP'), ('indeed', 'RB'), ('delighted', 'VBD'), ('participate', 'JJ'), ('21st', 'CD'), ('Convocation', 'NNP'), ('Sri', 'NNP'), ('Sathya', 'NNP'), ('Sai', 'NNP'), ('Institute', 'NNP'), ('Higher', 'NNP'), ('Learning', 'NNP'), ('.', '.')]\n",
      "[('I', 'PRP'), ('take', 'VBP'), ('opportunity', 'NN'), ('congratulate', 'NN'), ('young', 'JJ'), ('graduates', 'NNS'), ('achievement', 'NN'), ('.', '.')]\n",
      "[('I', 'PRP'), ('greet', 'VBP'), ('Vice', 'NNP'), ('Chancellor', 'NNP'), (',', ','), ('Professors', 'NNP'), (',', ','), ('teachers', 'VBZ'), ('staff', 'NN'), ('excellent', 'JJ'), ('contribution', 'NN'), ('shaping', 'VBG'), ('young', 'JJ'), ('minds', 'NNS'), ('contribute', 'JJ'), ('nation', 'NN'), ('multiple', 'JJ'), ('fields', 'NNS'), ('.', '.')]\n",
      "[('It', 'PRP'), ('great', 'JJ'), ('honour', 'JJ'), ('Chancellor', 'NNP'), (',', ','), ('Swamiji', 'NNP'), (',', ','), ('given', 'VBN'), ('opportunity', 'NN'), ('share', 'NN'), ('thoughts', 'NNS'), ('Convocation', 'NNP'), ('.', '.')]\n",
      "[('Is', 'VBZ'), ('value', 'NN'), ('based', 'VBN'), ('education', 'NN'), ('possible', 'JJ'), ('?', '.')]\n",
      "[('Sri', 'NNP'), ('Sathya', 'NNP'), ('Sai', 'NNP'), ('Institute', 'NNP'), ('Higher', 'NNP'), ('Learning', 'NNP'), ('given', 'VBN'), ('answer', 'RP'), ('affirmative', 'JJ'), ('.', '.')]\n",
      "[('Our', 'PRP$'), ('ultimate', 'JJ'), ('goal', 'NN'), (':', ':'), ('human', 'JJ'), ('beings', 'NNS'), ('prosperous', 'JJ'), ('forms', 'NNS'), ('security', 'NN'), ('like', 'IN'), ('food', 'NN'), ('security', 'NN'), (',', ','), ('social', 'JJ'), ('security', 'NN'), ('future', 'JJ'), ('security', 'NN'), ('children', 'NNS'), ('.', '.')]\n",
      "[('How', 'WRB'), ('achieve', 'NNS'), ('?', '.')]\n",
      "[('How', 'WRB'), ('nation', 'NN'), ('secured', 'VBD'), ('external', 'JJ'), ('internal', 'JJ'), ('problems', 'NNS'), ('?', '.')]\n",
      "[('National', 'NNP'), ('security', 'NN'), ('economic', 'JJ'), ('prosperity', 'NN'), ('interconnected', 'VBN'), ('.', '.')]\n",
      "[('Sathyam', 'NNP'), (',', ','), ('Dharma', 'NNP'), (',', ','), ('Shanti', 'NNP'), ('Prema', 'NNP'), ('eternal', 'JJ'), ('human', 'NN'), ('values', 'NNS'), ('.', '.')]\n",
      "[('Efforts', 'NNS'), ('endeavour', 'VBP'), ('man', 'NN'), (\"'s\", 'POS'), ('duty', 'NN'), ('.', '.')]\n",
      "[('Success', 'JJ'), ('failure', 'NN'), ('God', 'NNP'), (\"'s\", 'POS'), ('domain', 'NN'), ('.', '.')]\n",
      "[('I', 'PRP'), ('see', 'VBP'), ('campus', 'JJ'), ('high', 'JJ'), ('calibre', 'NN'), ('graduates', 'NNS'), ('bubbling', 'VBG'), ('creativity', 'NN'), ('.', '.')]\n",
      "[('There', 'EX'), ('virtual', 'JJ'), ('presence', 'NN'), ('divine', 'NN'), ('blessings', 'NNS'), ('around', 'IN'), ('.', '.')]\n",
      "[('I', 'PRP'), ('could', 'MD'), ('sense', 'VB'), ('intervention', 'NN'), ('alleviate', 'IN'), ('people', 'NNS'), (\"'s\", 'POS'), ('pain', 'NN'), (',', ','), ('difficulties', 'NNS'), ('problems', 'NNS'), ('.', '.')]\n",
      "[('The', 'DT'), ('integrated', 'JJ'), ('effect', 'NN'), ('place', 'NN'), ('Guru', 'NNP'), ('integrate', 'NN'), ('spiritual', 'JJ'), ('material', 'NN'), ('wealth', 'NN'), ('.', '.')]\n",
      "[('When', 'WRB'), ('I', 'PRP'), ('thinking', 'VBG'), ('thoughts', 'NNS'), ('I', 'PRP'), ('could', 'MD'), ('share', 'NN'), (',', ','), ('young', 'JJ'), ('graduates', 'NNS'), (',', ','), ('beautiful', 'JJ'), ('divine', 'JJ'), ('message', 'NN'), ('ringing', 'NN'), (':', ':'), (\"''\", \"''\"), ('Where', 'WRB'), ('righteousness', 'JJ'), ('heart', 'NN'), ('There', 'EX'), ('beauty', 'NN'), ('character', 'NN'), ('.', '.')]\n",
      "[('When', 'WRB'), ('beauty', 'NN'), ('character', 'NN'), (',', ','), ('There', 'EX'), ('harmony', 'JJ'), ('home', 'NN'), ('.', '.')]\n",
      "[('When', 'WRB'), ('harmony', 'NN'), ('home', 'NN'), (',', ','), ('There', 'EX'), ('order', 'NN'), ('nation', 'NN'), ('.', '.')]\n",
      "[('When', 'WRB'), ('order', 'NN'), ('nation', 'NN'), (',', ','), ('There', 'EX'), ('peace', 'NN'), ('world', 'NN'), ('.', '.'), (\"''\", \"''\")]\n",
      "[('Thinking', 'VBG'), ('progress', 'NN'), ('.', '.')]\n",
      "[('Non-thinking', 'JJ'), ('destruction', 'NN'), ('individual', 'NN'), (',', ','), ('organization', 'NN'), ('country', 'NN'), ('.', '.')]\n",
      "[('Thinking', 'VBG'), ('leads', 'VBZ'), ('action', 'NN'), ('.', '.')]\n",
      "[('Knowledge', 'NNP'), ('without', 'IN'), ('action', 'NN'), ('useless', 'NN'), ('irrelevant', 'NN'), ('.', '.')]\n",
      "[('Knowledge', 'NNP'), ('action', 'NN'), ('brings', 'VBZ'), ('prosperity', 'NN'), ('.', '.')]\n",
      "[('I', 'PRP'), ('would', 'MD'), ('like', 'VB'), (',', ','), ('dear', 'VB'), ('youth', 'NN'), (',', ','), ('mind', 'NN'), ('explore', 'NN'), ('every', 'DT'), ('aspect', 'NN'), ('human', 'JJ'), ('life', 'NN'), ('.', '.')]\n",
      "[('Look', 'NNP'), ('sky', 'NN'), ('.', '.')]\n",
      "[('We', 'PRP'), ('alone', 'RB'), ('.', '.')]\n",
      "[('The', 'DT'), ('whole', 'JJ'), ('universe', 'NN'), ('friendly', 'JJ'), ('us', 'PRP'), ('conspires', 'VBZ'), ('give', 'JJ'), ('best', 'RBS'), ('dream', 'NN'), ('.', '.')]\n",
      "[('Like', 'IN'), ('Chandrasekhar', 'NNP'), ('Subramaniam', 'NNP'), ('discovered', 'VBD'), ('black', 'JJ'), ('hole', 'NN'), ('using', 'VBG'), ('Chandrasekhar', 'NNP'), (\"'s\", 'POS'), ('limit', 'NN'), ('.', '.')]\n",
      "[('Like', 'IN'), ('Sir', 'NNP'), ('C.V.', 'NNP'), ('Raman', 'NNP'), ('looked', 'VBD'), ('sea', 'NN'), ('questioned', 'VBD'), ('blue', 'NN'), (',', ','), ('leading', 'VBG'), ('Raman', 'NNP'), ('Effect', 'NNP'), ('.', '.')]\n",
      "[('Like', 'IN'), ('Albert', 'NNP'), ('Einstein', 'NNP'), (',', ','), ('armed', 'VBD'), ('complexity', 'NN'), ('universe', 'NN'), (',', ','), ('asked', 'VBD'), ('questions', 'NNS'), ('nature', 'NN'), ('arrived', 'VBD'), ('E', 'NNP'), ('=', 'NNP'), ('mc²', 'NN'), ('.', '.')]\n",
      "[('To', 'TO'), ('become', 'VB'), ('developed', 'JJ'), ('India', 'NNP'), (',', ','), ('essential', 'JJ'), ('needs', 'NNS'), (':', ':'), ('(', '('), (')', ')'), ('India', 'NNP'), ('economically', 'RB'), ('commercially', 'RB'), ('powerful', 'JJ'), (',', ','), ('aiming', 'VBG'), ('9', 'CD'), ('%', 'NN'), ('annual', 'JJ'), ('GDP', 'NNP'), ('growth', 'NN'), ('near-zero', 'JJ'), ('poverty', 'NN'), ('.', '.')]\n",
      "[('(', '('), ('b', 'NN'), (')', ')'), ('Near', 'IN'), ('self-reliance', 'NN'), ('defence', 'NN'), ('equipment', 'NN'), ('umbilical', 'JJ'), ('attached', 'VBD'), ('outside', 'JJ'), ('world', 'NN'), ('.', '.')]\n",
      "[('(', '('), ('c', 'NN'), (')', ')'), ('India', 'NNP'), ('right', 'JJ'), ('place', 'NN'), ('world', 'NN'), ('forums', 'NN'), ('.', '.')]\n",
      "[('Technology', 'NN'), ('Vision', 'NN'), ('2020', 'CD'), ('pathway', 'NN'), ('realise', 'NN'), ('cherished', 'VBN'), ('mission', 'NN'), ('.', '.')]\n",
      "[('We', 'PRP'), ('identified', 'VBD'), ('five', 'CD'), ('areas', 'NNS'), ('integrated', 'VBN'), ('action', 'NN'), (':', ':'), ('1', 'CD'), ('.', '.')]\n",
      "[('Agriculture', 'NNP'), ('food', 'NN'), ('processing', 'VBG'), ('2', 'CD'), ('.', '.')]\n",
      "[('Reliable', 'JJ'), ('quality', 'NN'), ('electric', 'JJ'), ('power', 'NN'), ('parts', 'NNS'), ('country', 'NN'), ('3', 'CD'), ('.', '.')]\n",
      "[('Education', 'NNP'), ('Healthcare', 'NNP'), ('4', 'CD'), ('.', '.')]\n",
      "[('Information', 'NN'), ('Communication', 'NNP'), ('Technology', 'NNP'), ('5', 'CD'), ('.', '.')]\n",
      "[('Strategic', 'JJ'), ('sectors', 'NNS'), ('(', '('), ('nuclear', 'JJ'), (',', ','), ('space', 'NN'), (',', ','), ('defence', 'NN'), (',', ','), ('advanced', 'VBD'), ('sensors', 'NNS'), ('materials', 'NNS'), (')', ')'), ('These', 'DT'), ('five', 'CD'), ('areas', 'NNS'), ('closely', 'RB'), ('inter-related', 'JJ'), ('lead', 'JJ'), ('national', 'JJ'), (',', ','), ('food', 'NN'), (',', ','), ('economic', 'JJ'), ('security', 'NN'), ('.', '.')]\n",
      "[('A', 'DT'), ('strong', 'JJ'), ('partnership', 'NN'), ('among', 'IN'), ('R', 'NNP'), ('&', 'CC'), ('D', 'NNP'), (',', ','), ('academia', 'NN'), (',', ','), ('industry', 'NN'), (',', ','), ('community', 'NN'), (',', ','), ('government', 'NN'), ('essential', 'JJ'), ('accomplish', 'JJ'), ('vision', 'NN'), ('.', '.')]\n"
     ]
    }
   ],
   "source": [
    "## We will find the Pos Tag\n",
    "\n",
    "for i in range(len(sentences)):\n",
    "    words=nltk.word_tokenize(sentences[i])\n",
    "    words=[word for word in words if word not in set(stopwords.words('english'))]\n",
    "    #sentences[i]=' '.join(words)# converting all the list of words into sentences\n",
    "    pos_tag=nltk.pos_tag(words)\n",
    "    print(pos_tag)"
   ]
  },
  {
   "cell_type": "code",
   "execution_count": null,
   "metadata": {},
   "outputs": [],
   "source": []
  }
 ],
 "metadata": {
  "kernelspec": {
   "display_name": "venv",
   "language": "python",
   "name": "python3"
  },
  "language_info": {
   "codemirror_mode": {
    "name": "ipython",
    "version": 3
   },
   "file_extension": ".py",
   "mimetype": "text/x-python",
   "name": "python",
   "nbconvert_exporter": "python",
   "pygments_lexer": "ipython3",
   "version": "3.13.2"
  }
 },
 "nbformat": 4,
 "nbformat_minor": 2
}
