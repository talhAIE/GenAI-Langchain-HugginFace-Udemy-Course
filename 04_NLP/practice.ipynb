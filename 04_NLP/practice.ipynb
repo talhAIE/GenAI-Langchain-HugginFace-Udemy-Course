{
 "cells": [
  {
   "cell_type": "markdown",
   "metadata": {},
   "source": [
    "# for Practice\n"
   ]
  },
  {
   "cell_type": "code",
   "execution_count": 4,
   "metadata": {},
   "outputs": [],
   "source": [
    "pargraph= \"\"\"\n",
    "I am indeed delighted to participate in the 21st Convocation of Sri Sathya Sai Institute of Higher Learning.\n",
    "I take this opportunity to congratulate the young graduates for their achievement.\n",
    "I greet the Vice Chancellor, Professors, teachers and staff for the excellent contribution in shaping young minds to contribute to the nation in multiple fields.\n",
    "It is a great honour for me that the Chancellor, Swamiji, has given me this opportunity to share my thoughts at this Convocation.\n",
    "\n",
    "Is value based education possible? Sri Sathya Sai Institute of Higher Learning has given an answer in the affirmative.\n",
    "Our ultimate goal is: all human beings should be prosperous and should have all forms of security like food security, social security and future security of their children.\n",
    "How to achieve them? How can a nation be secured from external and internal problems?\n",
    "National security and economic prosperity are interconnected.\n",
    "\n",
    "Sathyam, Dharma, Shanti and Prema are the eternal human values.\n",
    "Efforts and endeavour are man's duty. Success or failure is God's domain.\n",
    "I can see in this campus high calibre graduates bubbling with creativity.\n",
    "There is a virtual presence of divine blessings all around.\n",
    "I could sense intervention to alleviate the people's pain, difficulties and problems.\n",
    "The integrated effect of this place is how a Guru can integrate both spiritual and material wealth.\n",
    "\n",
    "When I was thinking what thoughts I could share with you, young graduates, a beautiful divine message was ringing in me:\n",
    "\"Where there is righteousness in the heart\n",
    " There is a beauty in the character.\n",
    " When there is beauty in the character,\n",
    " There is harmony in the home.\n",
    " When there is harmony in the home,\n",
    " There is order in the nation.\n",
    " When there is order in the nation,\n",
    " There is peace in the world.\"\n",
    "\n",
    "Thinking is progress. Non-thinking is destruction to the individual, organization and the country.\n",
    "Thinking leads to action. Knowledge without action is useless and irrelevant.\n",
    "Knowledge with action brings prosperity.\n",
    "\n",
    "I would like you, dear youth, to have a mind to explore every aspect of human life.\n",
    "Look at the sky. We are not alone. The whole universe is friendly to us and conspires to give the best to those who dream.\n",
    "Like Chandrasekhar Subramaniam discovered the black hole using Chandrasekhar's limit.\n",
    "Like Sir C.V. Raman looked at the sea and questioned why it is blue, leading to the Raman Effect.\n",
    "Like Albert Einstein, armed with the complexity of the universe, asked questions about its nature and arrived at E = mc².\n",
    "\n",
    "To become a developed India, the essential needs are:\n",
    "(a) India has to be economically and commercially powerful, aiming for 9% annual GDP growth and near-zero poverty.\n",
    "(b) Near self-reliance in defence equipment with no umbilical attached to the outside world.\n",
    "(c) India should have a right place in world forums.\n",
    "\n",
    "Technology Vision 2020 is a pathway to realise this cherished mission.\n",
    "We have identified five areas for integrated action:\n",
    "  1. Agriculture and food processing\n",
    "  2. Reliable and quality electric power for all parts of the country\n",
    "  3. Education and Healthcare\n",
    "  4. Information Communication Technology\n",
    "  5. Strategic sectors (nuclear, space, defence, advanced sensors and materials)\n",
    "\n",
    "These five areas are closely inter-related and will lead to national, food, and economic security.\n",
    "A strong partnership among R&D, academia, industry, the community, and government will be essential to accomplish the vision.\n",
    "\"\"\""
   ]
  },
  {
   "cell_type": "code",
   "execution_count": 2,
   "metadata": {},
   "outputs": [],
   "source": [
    "from nltk.stem import SnowballStemmer\n",
    "from nltk.stem import WordNetLemmatizer\n",
    "from nltk.tokenize import sent_tokenize,word_tokenize\n",
    "from nltk.corpus import stopwords\n",
    "import nltk"
   ]
  },
  {
   "cell_type": "code",
   "execution_count": 22,
   "metadata": {},
   "outputs": [
    {
     "name": "stderr",
     "output_type": "stream",
     "text": [
      "[nltk_data] Downloading package punkt_tab to C:\\Users\\PC/nltk_data...\n",
      "[nltk_data]   Package punkt_tab is already up-to-date!\n",
      "[nltk_data] Downloading package punkt to C:\\Users\\PC/nltk_data...\n",
      "[nltk_data]   Package punkt is already up-to-date!\n",
      "[nltk_data] Downloading package stopwords to C:\\Users\\PC/nltk_data...\n",
      "[nltk_data]   Package stopwords is already up-to-date!\n",
      "[nltk_data] Downloading package wordnet to C:\\Users\\PC/nltk_data...\n",
      "[nltk_data]   Package wordnet is already up-to-date!\n",
      "[nltk_data] Downloading package averaged_perceptron_tagger_eng to\n",
      "[nltk_data]     C:\\Users\\PC/nltk_data...\n",
      "[nltk_data]   Package averaged_perceptron_tagger_eng is already up-to-\n",
      "[nltk_data]       date!\n",
      "[nltk_data] Downloading package maxent_ne_chunker to\n",
      "[nltk_data]     C:\\Users\\PC/nltk_data...\n",
      "[nltk_data]   Package maxent_ne_chunker is already up-to-date!\n",
      "[nltk_data] Downloading package words to C:\\Users\\PC/nltk_data...\n",
      "[nltk_data]   Package words is already up-to-date!\n",
      "[nltk_data] Downloading package maxent_ne_chunker_tab to\n",
      "[nltk_data]     C:\\Users\\PC/nltk_data...\n",
      "[nltk_data]   Package maxent_ne_chunker_tab is already up-to-date!\n"
     ]
    },
    {
     "data": {
      "text/plain": [
       "True"
      ]
     },
     "execution_count": 22,
     "metadata": {},
     "output_type": "execute_result"
    }
   ],
   "source": [
    "nltk.download('punkt_tab') #for tokenizing\n",
    "nltk.download('punkt') #for tokenizing\n",
    "nltk.download('stopwords') #for stopwords\n",
    "nltk.download('wordnet') #for lemmatization\n",
    "nltk.download('averaged_perceptron_tagger_eng') #for pos tagging\n",
    "nltk.download('maxent_ne_chunker') # for entity recognition\n",
    "nltk.download('words') # for entity recognition\n",
    "nltk.download('maxent_ne_chunker_tab') # additional required resource"
   ]
  },
  {
   "cell_type": "code",
   "execution_count": 5,
   "metadata": {},
   "outputs": [],
   "source": [
    "sentences=sent_tokenize(pargraph)"
   ]
  },
  {
   "cell_type": "code",
   "execution_count": 6,
   "metadata": {},
   "outputs": [
    {
     "data": {
      "text/plain": [
       "['\\nI am indeed delighted to participate in the 21st Convocation of Sri Sathya Sai Institute of Higher Learning.',\n",
       " 'I take this opportunity to congratulate the young graduates for their achievement.',\n",
       " 'I greet the Vice Chancellor, Professors, teachers and staff for the excellent contribution in shaping young minds to contribute to the nation in multiple fields.',\n",
       " 'It is a great honour for me that the Chancellor, Swamiji, has given me this opportunity to share my thoughts at this Convocation.',\n",
       " 'Is value based education possible?',\n",
       " 'Sri Sathya Sai Institute of Higher Learning has given an answer in the affirmative.',\n",
       " 'Our ultimate goal is: all human beings should be prosperous and should have all forms of security like food security, social security and future security of their children.',\n",
       " 'How to achieve them?',\n",
       " 'How can a nation be secured from external and internal problems?',\n",
       " 'National security and economic prosperity are interconnected.',\n",
       " 'Sathyam, Dharma, Shanti and Prema are the eternal human values.',\n",
       " \"Efforts and endeavour are man's duty.\",\n",
       " \"Success or failure is God's domain.\",\n",
       " 'I can see in this campus high calibre graduates bubbling with creativity.',\n",
       " 'There is a virtual presence of divine blessings all around.',\n",
       " \"I could sense intervention to alleviate the people's pain, difficulties and problems.\",\n",
       " 'The integrated effect of this place is how a Guru can integrate both spiritual and material wealth.',\n",
       " 'When I was thinking what thoughts I could share with you, young graduates, a beautiful divine message was ringing in me:\\n\"Where there is righteousness in the heart\\n There is a beauty in the character.',\n",
       " 'When there is beauty in the character,\\n There is harmony in the home.',\n",
       " 'When there is harmony in the home,\\n There is order in the nation.',\n",
       " 'When there is order in the nation,\\n There is peace in the world.\"',\n",
       " 'Thinking is progress.',\n",
       " 'Non-thinking is destruction to the individual, organization and the country.',\n",
       " 'Thinking leads to action.',\n",
       " 'Knowledge without action is useless and irrelevant.',\n",
       " 'Knowledge with action brings prosperity.',\n",
       " 'I would like you, dear youth, to have a mind to explore every aspect of human life.',\n",
       " 'Look at the sky.',\n",
       " 'We are not alone.',\n",
       " 'The whole universe is friendly to us and conspires to give the best to those who dream.',\n",
       " \"Like Chandrasekhar Subramaniam discovered the black hole using Chandrasekhar's limit.\",\n",
       " 'Like Sir C.V. Raman looked at the sea and questioned why it is blue, leading to the Raman Effect.',\n",
       " 'Like Albert Einstein, armed with the complexity of the universe, asked questions about its nature and arrived at E = mc².',\n",
       " 'To become a developed India, the essential needs are:\\n(a) India has to be economically and commercially powerful, aiming for 9% annual GDP growth and near-zero poverty.',\n",
       " '(b) Near self-reliance in defence equipment with no umbilical attached to the outside world.',\n",
       " '(c) India should have a right place in world forums.',\n",
       " 'Technology Vision 2020 is a pathway to realise this cherished mission.',\n",
       " 'We have identified five areas for integrated action:\\n  1.',\n",
       " 'Agriculture and food processing\\n  2.',\n",
       " 'Reliable and quality electric power for all parts of the country\\n  3.',\n",
       " 'Education and Healthcare\\n  4.',\n",
       " 'Information Communication Technology\\n  5.',\n",
       " 'Strategic sectors (nuclear, space, defence, advanced sensors and materials)\\n\\nThese five areas are closely inter-related and will lead to national, food, and economic security.',\n",
       " 'A strong partnership among R&D, academia, industry, the community, and government will be essential to accomplish the vision.']"
      ]
     },
     "execution_count": 6,
     "metadata": {},
     "output_type": "execute_result"
    }
   ],
   "source": [
    "sentences"
   ]
  },
  {
   "cell_type": "code",
   "execution_count": 8,
   "metadata": {},
   "outputs": [],
   "source": [
    "snowstem=SnowballStemmer('english')"
   ]
  },
  {
   "cell_type": "code",
   "execution_count": 11,
   "metadata": {},
   "outputs": [],
   "source": [
    "for i in range(len(sentences)):\n",
    "    #word tokenize\n",
    "    words=word_tokenize(sentences[i])\n",
    "    words=[snowstem.stem(word) for word in words if word not in set(stopwords.words('english'))]\n",
    "    sentences[i]=' '.join(words)\n",
    "    "
   ]
  },
  {
   "cell_type": "code",
   "execution_count": 12,
   "metadata": {},
   "outputs": [
    {
     "name": "stdout",
     "output_type": "stream",
     "text": [
      "['i inde delight particip 21st convoc sri sathya sai institut higher learn .', 'i take opportun congratul young graduat achiev .', 'i greet vice chancellor , professor , teacher staff excel contribut shape young mind contribut nation multipl field .', 'it great honour chancellor , swamiji , given opportun share thought convoc .', 'is valu base educ possibl ?', 'sri sathya sai institut higher learn given answer affirm .', 'our ultim goal : human be prosper form secur like food secur , social secur futur secur children .', 'how achiev ?', 'how nation secur extern intern problem ?', 'nation secur econom prosper interconnect .', 'sathyam , dharma , shanti prema etern human valu .', \"effort endeavour man 's duti .\", \"success failur god 's domain .\", 'i see campus high calibr graduat bubbl creativ .', 'there virtual presenc divin bless around .', \"i could sens intervent allevi peopl 's pain , difficulti problem .\", 'the integr effect place guru integr spiritu materi wealth .', \"when i think thought i could share , young graduat , beauti divin messag ring : '' where righteous heart there beauti charact .\", 'when beauti charact , there harmoni home .', 'when harmoni home , there order nation .', \"when order nation , there peac world . ''\", 'think progress .', 'non-think destruct individu , organ countri .', 'think lead action .', 'knowledg without action useless irrelev .', 'knowledg action bring prosper .', 'i would like , dear youth , mind explor everi aspect human life .', 'look sky .', 'we alon .', 'the whole univers friend us conspir give best dream .', \"like chandrasekhar subramaniam discov black hole use chandrasekhar 's limit .\", 'like sir c.v. raman look sea question blue , lead raman effect .', 'like albert einstein , arm complex univers , ask question natur arriv e = mc² .', 'to becom develop india , essenti need : ( ) india econom commerci power , aim 9 % annual gdp growth near-zero poverti .', '( b ) near self-reli defenc equip umbil attach outsid world .', '( c ) india right place world forum .', 'technolog vision 2020 pathway realis cherish mission .', 'we identifi five area integr action : 1 .', 'agricultur food process 2 .', 'reliabl qualiti electr power part countri 3 .', 'educ healthcar 4 .', 'inform communic technolog 5 .', 'strateg sector ( nuclear , space , defenc , advanc sensor materi ) these five area close inter-rel lead nation , food , econom secur .', 'a strong partnership among r & d , academia , industri , communiti , govern essenti accomplish vision .']\n"
     ]
    }
   ],
   "source": [
    "print(sentences)"
   ]
  },
  {
   "cell_type": "code",
   "execution_count": 13,
   "metadata": {},
   "outputs": [],
   "source": [
    "# lets do with lemmatization\n",
    "sentences2=sent_tokenize(pargraph)"
   ]
  },
  {
   "cell_type": "code",
   "execution_count": 14,
   "metadata": {},
   "outputs": [
    {
     "data": {
      "text/plain": [
       "['\\nI am indeed delighted to participate in the 21st Convocation of Sri Sathya Sai Institute of Higher Learning.',\n",
       " 'I take this opportunity to congratulate the young graduates for their achievement.',\n",
       " 'I greet the Vice Chancellor, Professors, teachers and staff for the excellent contribution in shaping young minds to contribute to the nation in multiple fields.',\n",
       " 'It is a great honour for me that the Chancellor, Swamiji, has given me this opportunity to share my thoughts at this Convocation.',\n",
       " 'Is value based education possible?',\n",
       " 'Sri Sathya Sai Institute of Higher Learning has given an answer in the affirmative.',\n",
       " 'Our ultimate goal is: all human beings should be prosperous and should have all forms of security like food security, social security and future security of their children.',\n",
       " 'How to achieve them?',\n",
       " 'How can a nation be secured from external and internal problems?',\n",
       " 'National security and economic prosperity are interconnected.',\n",
       " 'Sathyam, Dharma, Shanti and Prema are the eternal human values.',\n",
       " \"Efforts and endeavour are man's duty.\",\n",
       " \"Success or failure is God's domain.\",\n",
       " 'I can see in this campus high calibre graduates bubbling with creativity.',\n",
       " 'There is a virtual presence of divine blessings all around.',\n",
       " \"I could sense intervention to alleviate the people's pain, difficulties and problems.\",\n",
       " 'The integrated effect of this place is how a Guru can integrate both spiritual and material wealth.',\n",
       " 'When I was thinking what thoughts I could share with you, young graduates, a beautiful divine message was ringing in me:\\n\"Where there is righteousness in the heart\\n There is a beauty in the character.',\n",
       " 'When there is beauty in the character,\\n There is harmony in the home.',\n",
       " 'When there is harmony in the home,\\n There is order in the nation.',\n",
       " 'When there is order in the nation,\\n There is peace in the world.\"',\n",
       " 'Thinking is progress.',\n",
       " 'Non-thinking is destruction to the individual, organization and the country.',\n",
       " 'Thinking leads to action.',\n",
       " 'Knowledge without action is useless and irrelevant.',\n",
       " 'Knowledge with action brings prosperity.',\n",
       " 'I would like you, dear youth, to have a mind to explore every aspect of human life.',\n",
       " 'Look at the sky.',\n",
       " 'We are not alone.',\n",
       " 'The whole universe is friendly to us and conspires to give the best to those who dream.',\n",
       " \"Like Chandrasekhar Subramaniam discovered the black hole using Chandrasekhar's limit.\",\n",
       " 'Like Sir C.V. Raman looked at the sea and questioned why it is blue, leading to the Raman Effect.',\n",
       " 'Like Albert Einstein, armed with the complexity of the universe, asked questions about its nature and arrived at E = mc².',\n",
       " 'To become a developed India, the essential needs are:\\n(a) India has to be economically and commercially powerful, aiming for 9% annual GDP growth and near-zero poverty.',\n",
       " '(b) Near self-reliance in defence equipment with no umbilical attached to the outside world.',\n",
       " '(c) India should have a right place in world forums.',\n",
       " 'Technology Vision 2020 is a pathway to realise this cherished mission.',\n",
       " 'We have identified five areas for integrated action:\\n  1.',\n",
       " 'Agriculture and food processing\\n  2.',\n",
       " 'Reliable and quality electric power for all parts of the country\\n  3.',\n",
       " 'Education and Healthcare\\n  4.',\n",
       " 'Information Communication Technology\\n  5.',\n",
       " 'Strategic sectors (nuclear, space, defence, advanced sensors and materials)\\n\\nThese five areas are closely inter-related and will lead to national, food, and economic security.',\n",
       " 'A strong partnership among R&D, academia, industry, the community, and government will be essential to accomplish the vision.']"
      ]
     },
     "execution_count": 14,
     "metadata": {},
     "output_type": "execute_result"
    }
   ],
   "source": [
    "sentences2\n"
   ]
  },
  {
   "cell_type": "code",
   "execution_count": 16,
   "metadata": {},
   "outputs": [],
   "source": [
    "lemma=WordNetLemmatizer()"
   ]
  },
  {
   "cell_type": "code",
   "execution_count": 17,
   "metadata": {},
   "outputs": [],
   "source": [
    "for i in range(len(sentences2)):\n",
    "    #word tokenize\n",
    "    words=word_tokenize(sentences2[i])\n",
    "    words=[lemma.lemmatize(word) for word in words if word not in set(stopwords.words('english'))]\n",
    "    sentences2[i]=' '.join(words)\n",
    "    "
   ]
  },
  {
   "cell_type": "code",
   "execution_count": 18,
   "metadata": {},
   "outputs": [
    {
     "name": "stdout",
     "output_type": "stream",
     "text": [
      "['I indeed delighted participate 21st Convocation Sri Sathya Sai Institute Higher Learning .', 'I take opportunity congratulate young graduate achievement .', 'I greet Vice Chancellor , Professors , teacher staff excellent contribution shaping young mind contribute nation multiple field .', 'It great honour Chancellor , Swamiji , given opportunity share thought Convocation .', 'Is value based education possible ?', 'Sri Sathya Sai Institute Higher Learning given answer affirmative .', 'Our ultimate goal : human being prosperous form security like food security , social security future security child .', 'How achieve ?', 'How nation secured external internal problem ?', 'National security economic prosperity interconnected .', 'Sathyam , Dharma , Shanti Prema eternal human value .', \"Efforts endeavour man 's duty .\", \"Success failure God 's domain .\", 'I see campus high calibre graduate bubbling creativity .', 'There virtual presence divine blessing around .', \"I could sense intervention alleviate people 's pain , difficulty problem .\", 'The integrated effect place Guru integrate spiritual material wealth .', \"When I thinking thought I could share , young graduate , beautiful divine message ringing : '' Where righteousness heart There beauty character .\", 'When beauty character , There harmony home .', 'When harmony home , There order nation .', \"When order nation , There peace world . ''\", 'Thinking progress .', 'Non-thinking destruction individual , organization country .', 'Thinking lead action .', 'Knowledge without action useless irrelevant .', 'Knowledge action brings prosperity .', 'I would like , dear youth , mind explore every aspect human life .', 'Look sky .', 'We alone .', 'The whole universe friendly u conspires give best dream .', \"Like Chandrasekhar Subramaniam discovered black hole using Chandrasekhar 's limit .\", 'Like Sir C.V. Raman looked sea questioned blue , leading Raman Effect .', 'Like Albert Einstein , armed complexity universe , asked question nature arrived E = mc² .', 'To become developed India , essential need : ( ) India economically commercially powerful , aiming 9 % annual GDP growth near-zero poverty .', '( b ) Near self-reliance defence equipment umbilical attached outside world .', '( c ) India right place world forum .', 'Technology Vision 2020 pathway realise cherished mission .', 'We identified five area integrated action : 1 .', 'Agriculture food processing 2 .', 'Reliable quality electric power part country 3 .', 'Education Healthcare 4 .', 'Information Communication Technology 5 .', 'Strategic sector ( nuclear , space , defence , advanced sensor material ) These five area closely inter-related lead national , food , economic security .', 'A strong partnership among R & D , academia , industry , community , government essential accomplish vision .']\n"
     ]
    }
   ],
   "source": [
    "print(sentences2)"
   ]
  },
  {
   "cell_type": "code",
   "execution_count": 20,
   "metadata": {},
   "outputs": [],
   "source": [
    "# for pos tagging\n",
    "sentences3=sent_tokenize(pargraph)"
   ]
  },
  {
   "cell_type": "code",
   "execution_count": 25,
   "metadata": {},
   "outputs": [
    {
     "name": "stdout",
     "output_type": "stream",
     "text": [
      "[('I', 'PRP'), ('indeed', 'RB'), ('delighted', 'VBD'), ('participate', 'JJ'), ('21st', 'CD'), ('Convocation', 'NNP'), ('Sri', 'NNP'), ('Sathya', 'NNP'), ('Sai', 'NNP'), ('Institute', 'NNP'), ('Higher', 'NNP'), ('Learning', 'NNP'), ('.', '.')]\n",
      "[('I', 'PRP'), ('take', 'VBP'), ('opportunity', 'NN'), ('congratulate', 'NN'), ('young', 'JJ'), ('graduates', 'NNS'), ('achievement', 'NN'), ('.', '.')]\n",
      "[('I', 'PRP'), ('greet', 'VBP'), ('Vice', 'NNP'), ('Chancellor', 'NNP'), (',', ','), ('Professors', 'NNP'), (',', ','), ('teachers', 'VBZ'), ('staff', 'NN'), ('excellent', 'JJ'), ('contribution', 'NN'), ('shaping', 'VBG'), ('young', 'JJ'), ('minds', 'NNS'), ('contribute', 'JJ'), ('nation', 'NN'), ('multiple', 'JJ'), ('fields', 'NNS'), ('.', '.')]\n",
      "[('It', 'PRP'), ('great', 'JJ'), ('honour', 'JJ'), ('Chancellor', 'NNP'), (',', ','), ('Swamiji', 'NNP'), (',', ','), ('given', 'VBN'), ('opportunity', 'NN'), ('share', 'NN'), ('thoughts', 'NNS'), ('Convocation', 'NNP'), ('.', '.')]\n",
      "[('Is', 'VBZ'), ('value', 'NN'), ('based', 'VBN'), ('education', 'NN'), ('possible', 'JJ'), ('?', '.')]\n",
      "[('Sri', 'NNP'), ('Sathya', 'NNP'), ('Sai', 'NNP'), ('Institute', 'NNP'), ('Higher', 'NNP'), ('Learning', 'NNP'), ('given', 'VBN'), ('answer', 'RP'), ('affirmative', 'JJ'), ('.', '.')]\n",
      "[('Our', 'PRP$'), ('ultimate', 'JJ'), ('goal', 'NN'), (':', ':'), ('human', 'JJ'), ('beings', 'NNS'), ('prosperous', 'JJ'), ('forms', 'NNS'), ('security', 'NN'), ('like', 'IN'), ('food', 'NN'), ('security', 'NN'), (',', ','), ('social', 'JJ'), ('security', 'NN'), ('future', 'JJ'), ('security', 'NN'), ('children', 'NNS'), ('.', '.')]\n",
      "[('How', 'WRB'), ('achieve', 'NNS'), ('?', '.')]\n",
      "[('How', 'WRB'), ('nation', 'NN'), ('secured', 'VBD'), ('external', 'JJ'), ('internal', 'JJ'), ('problems', 'NNS'), ('?', '.')]\n",
      "[('National', 'NNP'), ('security', 'NN'), ('economic', 'JJ'), ('prosperity', 'NN'), ('interconnected', 'VBN'), ('.', '.')]\n",
      "[('Sathyam', 'NNP'), (',', ','), ('Dharma', 'NNP'), (',', ','), ('Shanti', 'NNP'), ('Prema', 'NNP'), ('eternal', 'JJ'), ('human', 'NN'), ('values', 'NNS'), ('.', '.')]\n",
      "[('Efforts', 'NNS'), ('endeavour', 'VBP'), ('man', 'NN'), (\"'s\", 'POS'), ('duty', 'NN'), ('.', '.')]\n",
      "[('Success', 'JJ'), ('failure', 'NN'), ('God', 'NNP'), (\"'s\", 'POS'), ('domain', 'NN'), ('.', '.')]\n",
      "[('I', 'PRP'), ('see', 'VBP'), ('campus', 'JJ'), ('high', 'JJ'), ('calibre', 'NN'), ('graduates', 'NNS'), ('bubbling', 'VBG'), ('creativity', 'NN'), ('.', '.')]\n",
      "[('There', 'EX'), ('virtual', 'JJ'), ('presence', 'NN'), ('divine', 'NN'), ('blessings', 'NNS'), ('around', 'IN'), ('.', '.')]\n",
      "[('I', 'PRP'), ('could', 'MD'), ('sense', 'VB'), ('intervention', 'NN'), ('alleviate', 'IN'), ('people', 'NNS'), (\"'s\", 'POS'), ('pain', 'NN'), (',', ','), ('difficulties', 'NNS'), ('problems', 'NNS'), ('.', '.')]\n",
      "[('The', 'DT'), ('integrated', 'JJ'), ('effect', 'NN'), ('place', 'NN'), ('Guru', 'NNP'), ('integrate', 'NN'), ('spiritual', 'JJ'), ('material', 'NN'), ('wealth', 'NN'), ('.', '.')]\n",
      "[('When', 'WRB'), ('I', 'PRP'), ('thinking', 'VBG'), ('thoughts', 'NNS'), ('I', 'PRP'), ('could', 'MD'), ('share', 'NN'), (',', ','), ('young', 'JJ'), ('graduates', 'NNS'), (',', ','), ('beautiful', 'JJ'), ('divine', 'JJ'), ('message', 'NN'), ('ringing', 'NN'), (':', ':'), (\"''\", \"''\"), ('Where', 'WRB'), ('righteousness', 'JJ'), ('heart', 'NN'), ('There', 'EX'), ('beauty', 'NN'), ('character', 'NN'), ('.', '.')]\n",
      "[('When', 'WRB'), ('beauty', 'NN'), ('character', 'NN'), (',', ','), ('There', 'EX'), ('harmony', 'JJ'), ('home', 'NN'), ('.', '.')]\n",
      "[('When', 'WRB'), ('harmony', 'NN'), ('home', 'NN'), (',', ','), ('There', 'EX'), ('order', 'NN'), ('nation', 'NN'), ('.', '.')]\n",
      "[('When', 'WRB'), ('order', 'NN'), ('nation', 'NN'), (',', ','), ('There', 'EX'), ('peace', 'NN'), ('world', 'NN'), ('.', '.'), (\"''\", \"''\")]\n",
      "[('Thinking', 'VBG'), ('progress', 'NN'), ('.', '.')]\n",
      "[('Non-thinking', 'JJ'), ('destruction', 'NN'), ('individual', 'NN'), (',', ','), ('organization', 'NN'), ('country', 'NN'), ('.', '.')]\n",
      "[('Thinking', 'VBG'), ('leads', 'VBZ'), ('action', 'NN'), ('.', '.')]\n",
      "[('Knowledge', 'NNP'), ('without', 'IN'), ('action', 'NN'), ('useless', 'NN'), ('irrelevant', 'NN'), ('.', '.')]\n",
      "[('Knowledge', 'NNP'), ('action', 'NN'), ('brings', 'VBZ'), ('prosperity', 'NN'), ('.', '.')]\n",
      "[('I', 'PRP'), ('would', 'MD'), ('like', 'VB'), (',', ','), ('dear', 'VB'), ('youth', 'NN'), (',', ','), ('mind', 'NN'), ('explore', 'NN'), ('every', 'DT'), ('aspect', 'NN'), ('human', 'JJ'), ('life', 'NN'), ('.', '.')]\n",
      "[('Look', 'NNP'), ('sky', 'NN'), ('.', '.')]\n",
      "[('We', 'PRP'), ('alone', 'RB'), ('.', '.')]\n",
      "[('The', 'DT'), ('whole', 'JJ'), ('universe', 'NN'), ('friendly', 'JJ'), ('us', 'PRP'), ('conspires', 'VBZ'), ('give', 'JJ'), ('best', 'RBS'), ('dream', 'NN'), ('.', '.')]\n",
      "[('Like', 'IN'), ('Chandrasekhar', 'NNP'), ('Subramaniam', 'NNP'), ('discovered', 'VBD'), ('black', 'JJ'), ('hole', 'NN'), ('using', 'VBG'), ('Chandrasekhar', 'NNP'), (\"'s\", 'POS'), ('limit', 'NN'), ('.', '.')]\n",
      "[('Like', 'IN'), ('Sir', 'NNP'), ('C.V.', 'NNP'), ('Raman', 'NNP'), ('looked', 'VBD'), ('sea', 'NN'), ('questioned', 'VBD'), ('blue', 'NN'), (',', ','), ('leading', 'VBG'), ('Raman', 'NNP'), ('Effect', 'NNP'), ('.', '.')]\n",
      "[('Like', 'IN'), ('Albert', 'NNP'), ('Einstein', 'NNP'), (',', ','), ('armed', 'VBD'), ('complexity', 'NN'), ('universe', 'NN'), (',', ','), ('asked', 'VBD'), ('questions', 'NNS'), ('nature', 'NN'), ('arrived', 'VBD'), ('E', 'NNP'), ('=', 'NNP'), ('mc²', 'NN'), ('.', '.')]\n",
      "[('To', 'TO'), ('become', 'VB'), ('developed', 'JJ'), ('India', 'NNP'), (',', ','), ('essential', 'JJ'), ('needs', 'NNS'), (':', ':'), ('(', '('), (')', ')'), ('India', 'NNP'), ('economically', 'RB'), ('commercially', 'RB'), ('powerful', 'JJ'), (',', ','), ('aiming', 'VBG'), ('9', 'CD'), ('%', 'NN'), ('annual', 'JJ'), ('GDP', 'NNP'), ('growth', 'NN'), ('near-zero', 'JJ'), ('poverty', 'NN'), ('.', '.')]\n",
      "[('(', '('), ('b', 'NN'), (')', ')'), ('Near', 'IN'), ('self-reliance', 'NN'), ('defence', 'NN'), ('equipment', 'NN'), ('umbilical', 'JJ'), ('attached', 'VBD'), ('outside', 'JJ'), ('world', 'NN'), ('.', '.')]\n",
      "[('(', '('), ('c', 'NN'), (')', ')'), ('India', 'NNP'), ('right', 'JJ'), ('place', 'NN'), ('world', 'NN'), ('forums', 'NN'), ('.', '.')]\n",
      "[('Technology', 'NN'), ('Vision', 'NN'), ('2020', 'CD'), ('pathway', 'NN'), ('realise', 'NN'), ('cherished', 'VBN'), ('mission', 'NN'), ('.', '.')]\n",
      "[('We', 'PRP'), ('identified', 'VBD'), ('five', 'CD'), ('areas', 'NNS'), ('integrated', 'VBN'), ('action', 'NN'), (':', ':'), ('1', 'CD'), ('.', '.')]\n",
      "[('Agriculture', 'NNP'), ('food', 'NN'), ('processing', 'VBG'), ('2', 'CD'), ('.', '.')]\n",
      "[('Reliable', 'JJ'), ('quality', 'NN'), ('electric', 'JJ'), ('power', 'NN'), ('parts', 'NNS'), ('country', 'NN'), ('3', 'CD'), ('.', '.')]\n",
      "[('Education', 'NNP'), ('Healthcare', 'NNP'), ('4', 'CD'), ('.', '.')]\n",
      "[('Information', 'NN'), ('Communication', 'NNP'), ('Technology', 'NNP'), ('5', 'CD'), ('.', '.')]\n",
      "[('Strategic', 'JJ'), ('sectors', 'NNS'), ('(', '('), ('nuclear', 'JJ'), (',', ','), ('space', 'NN'), (',', ','), ('defence', 'NN'), (',', ','), ('advanced', 'VBD'), ('sensors', 'NNS'), ('materials', 'NNS'), (')', ')'), ('These', 'DT'), ('five', 'CD'), ('areas', 'NNS'), ('closely', 'RB'), ('inter-related', 'JJ'), ('lead', 'JJ'), ('national', 'JJ'), (',', ','), ('food', 'NN'), (',', ','), ('economic', 'JJ'), ('security', 'NN'), ('.', '.')]\n",
      "[('A', 'DT'), ('strong', 'JJ'), ('partnership', 'NN'), ('among', 'IN'), ('R', 'NNP'), ('&', 'CC'), ('D', 'NNP'), (',', ','), ('academia', 'NN'), (',', ','), ('industry', 'NN'), (',', ','), ('community', 'NN'), (',', ','), ('government', 'NN'), ('essential', 'JJ'), ('accomplish', 'JJ'), ('vision', 'NN'), ('.', '.')]\n"
     ]
    }
   ],
   "source": [
    "for i in range(len(sentences3)):\n",
    "    words=word_tokenize(sentences3[i])\n",
    "    words=[word for word in words if word not in set(stopwords.words('english'))]\n",
    "    tagged=nltk.pos_tag(words)\n",
    "    print(tagged)\n",
    "\n"
   ]
  },
  {
   "cell_type": "code",
   "execution_count": 27,
   "metadata": {},
   "outputs": [],
   "source": [
    "sen=sentences3[0]"
   ]
  },
  {
   "cell_type": "code",
   "execution_count": 29,
   "metadata": {},
   "outputs": [
    {
     "data": {
      "image/svg+xml": [
       "<svg baseProfile=\"full\" height=\"168px\" preserveAspectRatio=\"xMidYMid meet\" style=\"font-family: times, serif; font-weight: normal; font-style: normal; font-size: 16px\" version=\"1.1\" viewBox=\"0,0,1056.0,168.0\" width=\"1056px\" xmlns=\"http://www.w3.org/2000/svg\" xmlns:ev=\"http://www.w3.org/2001/xml-events\" xmlns:xlink=\"http://www.w3.org/1999/xlink\"><defs /><svg width=\"100%\" x=\"0\" y=\"0px\"><defs /><text text-anchor=\"middle\" x=\"50%\" y=\"16px\">S</text></svg><svg width=\"3.78788%\" x=\"0%\" y=\"48px\"><defs /><svg width=\"100%\" x=\"0\" y=\"0px\"><defs /><text text-anchor=\"middle\" x=\"50%\" y=\"16px\">I</text></svg><svg width=\"100%\" x=\"0%\" y=\"48px\"><defs /><svg width=\"100%\" x=\"0\" y=\"0px\"><defs /><text text-anchor=\"middle\" x=\"50%\" y=\"16px\">PRP</text></svg></svg><line stroke=\"black\" x1=\"50%\" x2=\"50%\" y1=\"20px\" y2=\"48px\" /></svg><line stroke=\"black\" x1=\"50%\" x2=\"1.89394%\" y1=\"20px\" y2=\"48px\" /><svg width=\"3.78788%\" x=\"3.78788%\" y=\"48px\"><defs /><svg width=\"100%\" x=\"0\" y=\"0px\"><defs /><text text-anchor=\"middle\" x=\"50%\" y=\"16px\">am</text></svg><svg width=\"100%\" x=\"0%\" y=\"48px\"><defs /><svg width=\"100%\" x=\"0\" y=\"0px\"><defs /><text text-anchor=\"middle\" x=\"50%\" y=\"16px\">VBP</text></svg></svg><line stroke=\"black\" x1=\"50%\" x2=\"50%\" y1=\"20px\" y2=\"48px\" /></svg><line stroke=\"black\" x1=\"50%\" x2=\"5.68182%\" y1=\"20px\" y2=\"48px\" /><svg width=\"6.06061%\" x=\"7.57576%\" y=\"48px\"><defs /><svg width=\"100%\" x=\"0\" y=\"0px\"><defs /><text text-anchor=\"middle\" x=\"50%\" y=\"16px\">indeed</text></svg><svg width=\"100%\" x=\"0%\" y=\"48px\"><defs /><svg width=\"100%\" x=\"0\" y=\"0px\"><defs /><text text-anchor=\"middle\" x=\"50%\" y=\"16px\">RB</text></svg></svg><line stroke=\"black\" x1=\"50%\" x2=\"50%\" y1=\"20px\" y2=\"48px\" /></svg><line stroke=\"black\" x1=\"50%\" x2=\"10.6061%\" y1=\"20px\" y2=\"48px\" /><svg width=\"8.33333%\" x=\"13.6364%\" y=\"48px\"><defs /><svg width=\"100%\" x=\"0\" y=\"0px\"><defs /><text text-anchor=\"middle\" x=\"50%\" y=\"16px\">delighted</text></svg><svg width=\"100%\" x=\"0%\" y=\"48px\"><defs /><svg width=\"100%\" x=\"0\" y=\"0px\"><defs /><text text-anchor=\"middle\" x=\"50%\" y=\"16px\">VBN</text></svg></svg><line stroke=\"black\" x1=\"50%\" x2=\"50%\" y1=\"20px\" y2=\"48px\" /></svg><line stroke=\"black\" x1=\"50%\" x2=\"17.803%\" y1=\"20px\" y2=\"48px\" /><svg width=\"3.0303%\" x=\"21.9697%\" y=\"48px\"><defs /><svg width=\"100%\" x=\"0\" y=\"0px\"><defs /><text text-anchor=\"middle\" x=\"50%\" y=\"16px\">to</text></svg><svg width=\"100%\" x=\"0%\" y=\"48px\"><defs /><svg width=\"100%\" x=\"0\" y=\"0px\"><defs /><text text-anchor=\"middle\" x=\"50%\" y=\"16px\">TO</text></svg></svg><line stroke=\"black\" x1=\"50%\" x2=\"50%\" y1=\"20px\" y2=\"48px\" /></svg><line stroke=\"black\" x1=\"50%\" x2=\"23.4848%\" y1=\"20px\" y2=\"48px\" /><svg width=\"9.84848%\" x=\"25%\" y=\"48px\"><defs /><svg width=\"100%\" x=\"0\" y=\"0px\"><defs /><text text-anchor=\"middle\" x=\"50%\" y=\"16px\">participate</text></svg><svg width=\"100%\" x=\"0%\" y=\"48px\"><defs /><svg width=\"100%\" x=\"0\" y=\"0px\"><defs /><text text-anchor=\"middle\" x=\"50%\" y=\"16px\">VB</text></svg></svg><line stroke=\"black\" x1=\"50%\" x2=\"50%\" y1=\"20px\" y2=\"48px\" /></svg><line stroke=\"black\" x1=\"50%\" x2=\"29.9242%\" y1=\"20px\" y2=\"48px\" /><svg width=\"3.0303%\" x=\"34.8485%\" y=\"48px\"><defs /><svg width=\"100%\" x=\"0\" y=\"0px\"><defs /><text text-anchor=\"middle\" x=\"50%\" y=\"16px\">in</text></svg><svg width=\"100%\" x=\"0%\" y=\"48px\"><defs /><svg width=\"100%\" x=\"0\" y=\"0px\"><defs /><text text-anchor=\"middle\" x=\"50%\" y=\"16px\">IN</text></svg></svg><line stroke=\"black\" x1=\"50%\" x2=\"50%\" y1=\"20px\" y2=\"48px\" /></svg><line stroke=\"black\" x1=\"50%\" x2=\"36.3636%\" y1=\"20px\" y2=\"48px\" /><svg width=\"3.78788%\" x=\"37.8788%\" y=\"48px\"><defs /><svg width=\"100%\" x=\"0\" y=\"0px\"><defs /><text text-anchor=\"middle\" x=\"50%\" y=\"16px\">the</text></svg><svg width=\"100%\" x=\"0%\" y=\"48px\"><defs /><svg width=\"100%\" x=\"0\" y=\"0px\"><defs /><text text-anchor=\"middle\" x=\"50%\" y=\"16px\">DT</text></svg></svg><line stroke=\"black\" x1=\"50%\" x2=\"50%\" y1=\"20px\" y2=\"48px\" /></svg><line stroke=\"black\" x1=\"50%\" x2=\"39.7727%\" y1=\"20px\" y2=\"48px\" /><svg width=\"4.54545%\" x=\"41.6667%\" y=\"48px\"><defs /><svg width=\"100%\" x=\"0\" y=\"0px\"><defs /><text text-anchor=\"middle\" x=\"50%\" y=\"16px\">21st</text></svg><svg width=\"100%\" x=\"0%\" y=\"48px\"><defs /><svg width=\"100%\" x=\"0\" y=\"0px\"><defs /><text text-anchor=\"middle\" x=\"50%\" y=\"16px\">CD</text></svg></svg><line stroke=\"black\" x1=\"50%\" x2=\"50%\" y1=\"20px\" y2=\"48px\" /></svg><line stroke=\"black\" x1=\"50%\" x2=\"43.9394%\" y1=\"20px\" y2=\"48px\" /><svg width=\"9.84848%\" x=\"46.2121%\" y=\"48px\"><defs /><svg width=\"100%\" x=\"0\" y=\"0px\"><defs /><text text-anchor=\"middle\" x=\"50%\" y=\"16px\">Convocation</text></svg><svg width=\"100%\" x=\"0%\" y=\"48px\"><defs /><svg width=\"100%\" x=\"0\" y=\"0px\"><defs /><text text-anchor=\"middle\" x=\"50%\" y=\"16px\">NN</text></svg></svg><line stroke=\"black\" x1=\"50%\" x2=\"50%\" y1=\"20px\" y2=\"48px\" /></svg><line stroke=\"black\" x1=\"50%\" x2=\"51.1364%\" y1=\"20px\" y2=\"48px\" /><svg width=\"3.0303%\" x=\"56.0606%\" y=\"48px\"><defs /><svg width=\"100%\" x=\"0\" y=\"0px\"><defs /><text text-anchor=\"middle\" x=\"50%\" y=\"16px\">of</text></svg><svg width=\"100%\" x=\"0%\" y=\"48px\"><defs /><svg width=\"100%\" x=\"0\" y=\"0px\"><defs /><text text-anchor=\"middle\" x=\"50%\" y=\"16px\">IN</text></svg></svg><line stroke=\"black\" x1=\"50%\" x2=\"50%\" y1=\"20px\" y2=\"48px\" /></svg><line stroke=\"black\" x1=\"50%\" x2=\"57.5758%\" y1=\"20px\" y2=\"48px\" /><svg width=\"21.9697%\" x=\"59.0909%\" y=\"48px\"><defs /><svg width=\"100%\" x=\"0\" y=\"0px\"><defs /><text text-anchor=\"middle\" x=\"50%\" y=\"16px\">ORGANIZATION</text></svg><svg width=\"17.2414%\" x=\"0%\" y=\"48px\"><defs /><svg width=\"100%\" x=\"0\" y=\"0px\"><defs /><text text-anchor=\"middle\" x=\"50%\" y=\"16px\">Sri</text></svg><svg width=\"100%\" x=\"0%\" y=\"48px\"><defs /><svg width=\"100%\" x=\"0\" y=\"0px\"><defs /><text text-anchor=\"middle\" x=\"50%\" y=\"16px\">NNP</text></svg></svg><line stroke=\"black\" x1=\"50%\" x2=\"50%\" y1=\"20px\" y2=\"48px\" /></svg><line stroke=\"black\" x1=\"50%\" x2=\"8.62069%\" y1=\"20px\" y2=\"48px\" /><svg width=\"27.5862%\" x=\"17.2414%\" y=\"48px\"><defs /><svg width=\"100%\" x=\"0\" y=\"0px\"><defs /><text text-anchor=\"middle\" x=\"50%\" y=\"16px\">Sathya</text></svg><svg width=\"100%\" x=\"0%\" y=\"48px\"><defs /><svg width=\"100%\" x=\"0\" y=\"0px\"><defs /><text text-anchor=\"middle\" x=\"50%\" y=\"16px\">NNP</text></svg></svg><line stroke=\"black\" x1=\"50%\" x2=\"50%\" y1=\"20px\" y2=\"48px\" /></svg><line stroke=\"black\" x1=\"50%\" x2=\"31.0345%\" y1=\"20px\" y2=\"48px\" /><svg width=\"17.2414%\" x=\"44.8276%\" y=\"48px\"><defs /><svg width=\"100%\" x=\"0\" y=\"0px\"><defs /><text text-anchor=\"middle\" x=\"50%\" y=\"16px\">Sai</text></svg><svg width=\"100%\" x=\"0%\" y=\"48px\"><defs /><svg width=\"100%\" x=\"0\" y=\"0px\"><defs /><text text-anchor=\"middle\" x=\"50%\" y=\"16px\">NNP</text></svg></svg><line stroke=\"black\" x1=\"50%\" x2=\"50%\" y1=\"20px\" y2=\"48px\" /></svg><line stroke=\"black\" x1=\"50%\" x2=\"53.4483%\" y1=\"20px\" y2=\"48px\" /><svg width=\"37.931%\" x=\"62.069%\" y=\"48px\"><defs /><svg width=\"100%\" x=\"0\" y=\"0px\"><defs /><text text-anchor=\"middle\" x=\"50%\" y=\"16px\">Institute</text></svg><svg width=\"100%\" x=\"0%\" y=\"48px\"><defs /><svg width=\"100%\" x=\"0\" y=\"0px\"><defs /><text text-anchor=\"middle\" x=\"50%\" y=\"16px\">NNP</text></svg></svg><line stroke=\"black\" x1=\"50%\" x2=\"50%\" y1=\"20px\" y2=\"48px\" /></svg><line stroke=\"black\" x1=\"50%\" x2=\"81.0345%\" y1=\"20px\" y2=\"48px\" /></svg><line stroke=\"black\" x1=\"50%\" x2=\"70.0758%\" y1=\"20px\" y2=\"48px\" /><svg width=\"3.0303%\" x=\"81.0606%\" y=\"48px\"><defs /><svg width=\"100%\" x=\"0\" y=\"0px\"><defs /><text text-anchor=\"middle\" x=\"50%\" y=\"16px\">of</text></svg><svg width=\"100%\" x=\"0%\" y=\"48px\"><defs /><svg width=\"100%\" x=\"0\" y=\"0px\"><defs /><text text-anchor=\"middle\" x=\"50%\" y=\"16px\">IN</text></svg></svg><line stroke=\"black\" x1=\"50%\" x2=\"50%\" y1=\"20px\" y2=\"48px\" /></svg><line stroke=\"black\" x1=\"50%\" x2=\"82.5758%\" y1=\"20px\" y2=\"48px\" /><svg width=\"13.6364%\" x=\"84.0909%\" y=\"48px\"><defs /><svg width=\"100%\" x=\"0\" y=\"0px\"><defs /><text text-anchor=\"middle\" x=\"50%\" y=\"16px\">PERSON</text></svg><svg width=\"44.4444%\" x=\"0%\" y=\"48px\"><defs /><svg width=\"100%\" x=\"0\" y=\"0px\"><defs /><text text-anchor=\"middle\" x=\"50%\" y=\"16px\">Higher</text></svg><svg width=\"100%\" x=\"0%\" y=\"48px\"><defs /><svg width=\"100%\" x=\"0\" y=\"0px\"><defs /><text text-anchor=\"middle\" x=\"50%\" y=\"16px\">NNP</text></svg></svg><line stroke=\"black\" x1=\"50%\" x2=\"50%\" y1=\"20px\" y2=\"48px\" /></svg><line stroke=\"black\" x1=\"50%\" x2=\"22.2222%\" y1=\"20px\" y2=\"48px\" /><svg width=\"55.5556%\" x=\"44.4444%\" y=\"48px\"><defs /><svg width=\"100%\" x=\"0\" y=\"0px\"><defs /><text text-anchor=\"middle\" x=\"50%\" y=\"16px\">Learning</text></svg><svg width=\"100%\" x=\"0%\" y=\"48px\"><defs /><svg width=\"100%\" x=\"0\" y=\"0px\"><defs /><text text-anchor=\"middle\" x=\"50%\" y=\"16px\">NNP</text></svg></svg><line stroke=\"black\" x1=\"50%\" x2=\"50%\" y1=\"20px\" y2=\"48px\" /></svg><line stroke=\"black\" x1=\"50%\" x2=\"72.2222%\" y1=\"20px\" y2=\"48px\" /></svg><line stroke=\"black\" x1=\"50%\" x2=\"90.9091%\" y1=\"20px\" y2=\"48px\" /><svg width=\"2.27273%\" x=\"97.7273%\" y=\"48px\"><defs /><svg width=\"100%\" x=\"0\" y=\"0px\"><defs /><text text-anchor=\"middle\" x=\"50%\" y=\"16px\">.</text></svg><svg width=\"100%\" x=\"0%\" y=\"48px\"><defs /><svg width=\"100%\" x=\"0\" y=\"0px\"><defs /><text text-anchor=\"middle\" x=\"50%\" y=\"16px\">.</text></svg></svg><line stroke=\"black\" x1=\"50%\" x2=\"50%\" y1=\"20px\" y2=\"48px\" /></svg><line stroke=\"black\" x1=\"50%\" x2=\"98.8636%\" y1=\"20px\" y2=\"48px\" /></svg>"
      ],
      "text/plain": [
       "Tree('S', [('I', 'PRP'), ('am', 'VBP'), ('indeed', 'RB'), ('delighted', 'VBN'), ('to', 'TO'), ('participate', 'VB'), ('in', 'IN'), ('the', 'DT'), ('21st', 'CD'), ('Convocation', 'NN'), ('of', 'IN'), Tree('ORGANIZATION', [('Sri', 'NNP'), ('Sathya', 'NNP'), ('Sai', 'NNP'), ('Institute', 'NNP')]), ('of', 'IN'), Tree('PERSON', [('Higher', 'NNP'), ('Learning', 'NNP')]), ('.', '.')])"
      ]
     },
     "execution_count": 29,
     "metadata": {},
     "output_type": "execute_result"
    }
   ],
   "source": [
    "nltk.ne_chunk(nltk.pos_tag(nltk.word_tokenize(sen)))"
   ]
  },
  {
   "cell_type": "code",
   "execution_count": null,
   "metadata": {},
   "outputs": [],
   "source": []
  }
 ],
 "metadata": {
  "kernelspec": {
   "display_name": "venv",
   "language": "python",
   "name": "python3"
  },
  "language_info": {
   "codemirror_mode": {
    "name": "ipython",
    "version": 3
   },
   "file_extension": ".py",
   "mimetype": "text/x-python",
   "name": "python",
   "nbconvert_exporter": "python",
   "pygments_lexer": "ipython3",
   "version": "3.13.2"
  }
 },
 "nbformat": 4,
 "nbformat_minor": 2
}
