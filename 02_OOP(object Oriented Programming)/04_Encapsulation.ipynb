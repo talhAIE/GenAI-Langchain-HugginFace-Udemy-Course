{
 "cells": [
  {
   "cell_type": "markdown",
   "id": "76332333",
   "metadata": {},
   "source": [
    "# Encapsulation\n"
   ]
  },
  {
   "cell_type": "markdown",
   "id": "8fd0694f",
   "metadata": {},
   "source": [
    "## Encapsulation\n",
    "\n",
    "**Encapsulation** is the bundling of an object’s data (attributes) and the methods that operate on that data into a single unit (a class), while restricting direct access to the internal state to ensure controlled interaction.\n",
    "\n",
    "## Abstraction\n",
    "\n",
    "**Abstraction** is the process of presenting only the essential features of an object or system to the outside world, hiding its internal implementation details to simplify usage and reduce complexity.\n"
   ]
  },
  {
   "cell_type": "code",
   "execution_count": null,
   "id": "598c0e9b",
   "metadata": {},
   "outputs": [
    {
     "data": {
      "text/plain": [
       "'John'"
      ]
     },
     "execution_count": 7,
     "metadata": {},
     "output_type": "execute_result"
    }
   ],
   "source": [
    "# Encapsulation with Getter and setter\n",
    "## Public , protected and private attributes\n",
    "\n",
    "\n",
    "class Person:\n",
    "    def __init__(self,name,age):\n",
    "        self.name=name # public attribute accessible from anywhere\n",
    "        self._age=age # protected attribute within class and derived classes\n",
    "        self.__salary=0 # private attribute accessible only within the class\n",
    "\n",
    "def get_name(Person):\n",
    "    return Person.name\n",
    "def get_age(Person):\n",
    "    return Person._age\n",
    "\n",
    "def get_salary(Person): \n",
    "    return Person.__salary\n",
    "\n",
    "person=Person(\"John\", 30)\n",
    "get_name(person) # John\n"
   ]
  },
  {
   "cell_type": "code",
   "execution_count": 8,
   "id": "e42c3173",
   "metadata": {},
   "outputs": [
    {
     "data": {
      "text/plain": [
       "30"
      ]
     },
     "execution_count": 8,
     "metadata": {},
     "output_type": "execute_result"
    }
   ],
   "source": [
    "get_age(person) # 30"
   ]
  },
  {
   "cell_type": "code",
   "execution_count": 9,
   "id": "0c3aafdf",
   "metadata": {},
   "outputs": [
    {
     "ename": "AttributeError",
     "evalue": "'Person' object has no attribute '__salary'",
     "output_type": "error",
     "traceback": [
      "\u001b[31m---------------------------------------------------------------------------\u001b[39m",
      "\u001b[31mAttributeError\u001b[39m                            Traceback (most recent call last)",
      "\u001b[36mCell\u001b[39m\u001b[36m \u001b[39m\u001b[32mIn[9]\u001b[39m\u001b[32m, line 1\u001b[39m\n\u001b[32m----> \u001b[39m\u001b[32m1\u001b[39m \u001b[43mget_salary\u001b[49m\u001b[43m(\u001b[49m\u001b[43mperson\u001b[49m\u001b[43m)\u001b[49m \u001b[38;5;66;03m# 0\u001b[39;00m\n",
      "\u001b[36mCell\u001b[39m\u001b[36m \u001b[39m\u001b[32mIn[7]\u001b[39m\u001b[32m, line 17\u001b[39m, in \u001b[36mget_salary\u001b[39m\u001b[34m(Person)\u001b[39m\n\u001b[32m     16\u001b[39m \u001b[38;5;28;01mdef\u001b[39;00m\u001b[38;5;250m \u001b[39m\u001b[34mget_salary\u001b[39m(Person):\n\u001b[32m---> \u001b[39m\u001b[32m17\u001b[39m     \u001b[38;5;28;01mreturn\u001b[39;00m \u001b[43mPerson\u001b[49m\u001b[43m.\u001b[49m\u001b[43m__salary\u001b[49m\n",
      "\u001b[31mAttributeError\u001b[39m: 'Person' object has no attribute '__salary'"
     ]
    }
   ],
   "source": [
    "get_salary(person) # 0"
   ]
  },
  {
   "cell_type": "code",
   "execution_count": null,
   "id": "206c709a",
   "metadata": {},
   "outputs": [],
   "source": [
    "# Encapsulation with Getter and setter\n",
    "class Person:\n",
    "    def __init__(self,name,age):\n",
    "        self.name=name # public attribute accessible from anywhere\n",
    "        self._age=age # protected attribute within class and derived classes\n",
    "        self.__salary=0 # private attribute accessible only within the class\n",
    "\n",
    "    def get_name(self):\n",
    "        return self.name\n",
    "    \n",
    "    def get_age(self):\n",
    "        return self._age\n",
    "    \n",
    "    def get_salary(self): \n",
    "        return self.__salary\n",
    "    \n",
    "    def set_salary(self,salary):\n",
    "        self.__salary=salary\n",
    "        "
   ]
  }
 ],
 "metadata": {
  "kernelspec": {
   "display_name": "venv",
   "language": "python",
   "name": "python3"
  },
  "language_info": {
   "codemirror_mode": {
    "name": "ipython",
    "version": 3
   },
   "file_extension": ".py",
   "mimetype": "text/x-python",
   "name": "python",
   "nbconvert_exporter": "python",
   "pygments_lexer": "ipython3",
   "version": "3.13.2"
  }
 },
 "nbformat": 4,
 "nbformat_minor": 5
}
