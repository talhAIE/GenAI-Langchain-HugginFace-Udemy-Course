{
 "cells": [
  {
   "cell_type": "markdown",
   "id": "7910576b",
   "metadata": {},
   "source": [
    "# Classes and Objects\n"
   ]
  },
  {
   "cell_type": "code",
   "execution_count": 1,
   "id": "ca0a5a2e",
   "metadata": {},
   "outputs": [
    {
     "name": "stdout",
     "output_type": "stream",
     "text": [
      "<class '__main__.Car'>\n"
     ]
    }
   ],
   "source": [
    "class Car:\n",
    "    pass\n",
    "\n",
    "audi=Car()\n",
    "bmw=Car()\n",
    "\n",
    "print(type(audi))"
   ]
  },
  {
   "cell_type": "code",
   "execution_count": null,
   "id": "82efc360",
   "metadata": {},
   "outputs": [
    {
     "name": "stdout",
     "output_type": "stream",
     "text": [
      "4\n"
     ]
    }
   ],
   "source": [
    "# Instance Variable and Methods\n",
    "audi.windows=4 # its not a proper way to define a variable in class\n",
    "print(audi.windows)"
   ]
  },
  {
   "cell_type": "code",
   "execution_count": 4,
   "id": "4fad25de",
   "metadata": {},
   "outputs": [
    {
     "data": {
      "text/plain": [
       "['__class__',\n",
       " '__delattr__',\n",
       " '__dict__',\n",
       " '__dir__',\n",
       " '__doc__',\n",
       " '__eq__',\n",
       " '__firstlineno__',\n",
       " '__format__',\n",
       " '__ge__',\n",
       " '__getattribute__',\n",
       " '__getstate__',\n",
       " '__gt__',\n",
       " '__hash__',\n",
       " '__init__',\n",
       " '__init_subclass__',\n",
       " '__le__',\n",
       " '__lt__',\n",
       " '__module__',\n",
       " '__ne__',\n",
       " '__new__',\n",
       " '__reduce__',\n",
       " '__reduce_ex__',\n",
       " '__repr__',\n",
       " '__setattr__',\n",
       " '__sizeof__',\n",
       " '__static_attributes__',\n",
       " '__str__',\n",
       " '__subclasshook__',\n",
       " '__weakref__']"
      ]
     },
     "execution_count": 4,
     "metadata": {},
     "output_type": "execute_result"
    }
   ],
   "source": [
    "# Instance Variable and Methods\n",
    "dir(Car)"
   ]
  },
  {
   "cell_type": "code",
   "execution_count": 7,
   "id": "59c56068",
   "metadata": {},
   "outputs": [
    {
     "name": "stdout",
     "output_type": "stream",
     "text": [
      "Tommy\n",
      "5\n"
     ]
    }
   ],
   "source": [
    "# Instance Variable \n",
    "class Dog:\n",
    "    def __init__(self,name,age): # constructor method # self is a reference to the instance of the class\n",
    "        # self.name=name # instance variable\n",
    "        self.name=name\n",
    "        self.age=age\n",
    "# create object\n",
    "dog1 =Dog(\"Tommy\",5)\n",
    "print(dog1.name)\n",
    "print(dog1.age)"
   ]
  },
  {
   "cell_type": "code",
   "execution_count": 30,
   "id": "032fc200",
   "metadata": {},
   "outputs": [
    {
     "name": "stdout",
     "output_type": "stream",
     "text": [
      "Woof! Woof!\n"
     ]
    },
    {
     "data": {
      "text/plain": [
       "5"
      ]
     },
     "execution_count": 30,
     "metadata": {},
     "output_type": "execute_result"
    }
   ],
   "source": [
    "# Instance Methods\n",
    "\n",
    "class Dog:\n",
    "        def __init__(self,name,age): # constructor method # self is a reference to the instance of the class\n",
    "        # self.name=name # instance variable\n",
    "            self.name=name\n",
    "            self.__age=age\n",
    "\n",
    "        def bark(self): # instance method\n",
    "            print(\"Woof! Woof!\")\n",
    "        \n",
    "        def get_age(self): # instance method\n",
    "            return self.__age\n",
    "\n",
    "dog1=Dog(\"Tommy\",5)\n",
    "dog1.bark()\n",
    "dog1.get_age()"
   ]
  }
 ],
 "metadata": {
  "kernelspec": {
   "display_name": "venv",
   "language": "python",
   "name": "python3"
  },
  "language_info": {
   "codemirror_mode": {
    "name": "ipython",
    "version": 3
   },
   "file_extension": ".py",
   "mimetype": "text/x-python",
   "name": "python",
   "nbconvert_exporter": "python",
   "pygments_lexer": "ipython3",
   "version": "3.13.2"
  }
 },
 "nbformat": 4,
 "nbformat_minor": 5
}
