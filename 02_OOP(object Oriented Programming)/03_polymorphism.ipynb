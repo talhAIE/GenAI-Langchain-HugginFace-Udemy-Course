{
 "cells": [
  {
   "cell_type": "markdown",
   "id": "d80a550a",
   "metadata": {},
   "source": [
    "# Polymorphism"
   ]
  },
  {
   "cell_type": "markdown",
   "id": "ce241966",
   "metadata": {},
   "source": [
    "# Method Overriding\n",
    "\n",
    "to provide a specific implementation of method that are present in parent class"
   ]
  },
  {
   "cell_type": "code",
   "execution_count": 1,
   "id": "d2614449",
   "metadata": {},
   "outputs": [],
   "source": [
    "class Animal:\n",
    "    def __init__(self, name):\n",
    "        self.name = name\n",
    "\n",
    "    def speak(self):\n",
    "        raise NotImplementedError(\"Subclasses must implement this method\")"
   ]
  },
  {
   "cell_type": "code",
   "execution_count": 6,
   "id": "7d895b1b",
   "metadata": {},
   "outputs": [],
   "source": [
    "class Dog(Animal):\n",
    "    def __init__(self, name, breed):\n",
    "        super().__init__(name)\n",
    "        self.breed = breed\n",
    "    def speak(self):\n",
    "        return f\"{self.name} says Woof!\""
   ]
  },
  {
   "cell_type": "code",
   "execution_count": 5,
   "id": "f581fdf0",
   "metadata": {},
   "outputs": [],
   "source": [
    "class Cat(Animal):\n",
    "    def __init__(self, name, color):\n",
    "        super().__init__(name)\n",
    "        self.color = color\n",
    "    def speak(self):\n",
    "        return f\"{self.name} says Meow!\""
   ]
  },
  {
   "cell_type": "code",
   "execution_count": 11,
   "id": "6f883d54",
   "metadata": {},
   "outputs": [
    {
     "name": "stdout",
     "output_type": "stream",
     "text": [
      "Buddy says Woof!\n",
      "Whiskers says Meow!\n"
     ]
    }
   ],
   "source": [
    "dog = Dog(\"Buddy\",\"Golden Retriever\")\n",
    "cat = Cat(\"Whiskers\",  \"Siamese\")\n",
    "\n",
    "print(dog.speak())  # Output: Buddy says Woof!\n",
    "print(cat.speak())  # Output: Whiskers says Meow! "
   ]
  },
  {
   "cell_type": "code",
   "execution_count": 12,
   "id": "2e8094d0",
   "metadata": {},
   "outputs": [],
   "source": [
    "# function to demonstrate polymorphism\n",
    "def animal_sound(animal):\n",
    "    print(animal.speak())"
   ]
  },
  {
   "cell_type": "code",
   "execution_count": 13,
   "id": "ffa69fc7",
   "metadata": {},
   "outputs": [
    {
     "name": "stdout",
     "output_type": "stream",
     "text": [
      "Buddy says Woof!\n"
     ]
    }
   ],
   "source": [
    "animal_sound(dog)  # Output: Buddy says Woof!"
   ]
  },
  {
   "cell_type": "code",
   "execution_count": 15,
   "id": "5a2dc3fa",
   "metadata": {},
   "outputs": [
    {
     "name": "stdout",
     "output_type": "stream",
     "text": [
      "Whiskers says Meow!\n"
     ]
    }
   ],
   "source": [
    "animal_sound(cat)  # Output: Buddy says Woof!"
   ]
  },
  {
   "cell_type": "code",
   "execution_count": 16,
   "id": "cb1efd10",
   "metadata": {},
   "outputs": [
    {
     "name": "stdout",
     "output_type": "stream",
     "text": [
      "Area: 50\n",
      "Area: 153.86\n"
     ]
    }
   ],
   "source": [
    "# polymorphism with functions and methods\n",
    "\n",
    "class Shape:\n",
    "    def area(self):\n",
    "        print(\"Calculating area\")\n",
    "\n",
    "class Rectangle(Shape):\n",
    "    def __init__(self, width, height):\n",
    "        self.width = width\n",
    "        self.height = height\n",
    "\n",
    "    def area(self):\n",
    "        return self.width * self.height\n",
    "\n",
    "class Circle(Shape):\n",
    "    def __init__(self, radius):\n",
    "        self.radius = radius\n",
    "\n",
    "    def area(self):\n",
    "        return 3.14 * (self.radius ** 2)\n",
    "\n",
    "# function to demonstrate polymorphism with shapes\n",
    "def calculate_area(shape):\n",
    "    print(f\"Area: {shape.area()}\")\n",
    "\n",
    "rectangle = Rectangle(5, 10)\n",
    "circle = Circle(7)\n",
    "calculate_area(rectangle)  # Output: Area: 50\n",
    "calculate_area(circle)  # Output: Area: 153.86"
   ]
  },
  {
   "cell_type": "code",
   "execution_count": 18,
   "id": "7484c175",
   "metadata": {},
   "outputs": [
    {
     "name": "stdout",
     "output_type": "stream",
     "text": [
      "Car engine started\n",
      "Bike engine started\n"
     ]
    }
   ],
   "source": [
    "# polymorphism with interfaces (abstract classes)\n",
    "# abstract class : abstract class is a class that cannot be instantiated and can have abstract methods\n",
    "from abc import ABC, abstractmethod # abstract method is decorator that is used to define abstract methods in abstract classes\n",
    "\n",
    "# define an abstract class\n",
    "class vehicle(ABC):\n",
    "    @abstractmethod\n",
    "    def start_engine(self):\n",
    "        pass\n",
    "\n",
    "    @abstractmethod\n",
    "    def stop_engine(self):\n",
    "        pass\n",
    "\n",
    "# Derived Class\n",
    "class Car(vehicle):\n",
    "    def start_engine(self):\n",
    "        print(\"Car engine started\")\n",
    "\n",
    "    def stop_engine(self):\n",
    "        print(\"Car engine stopped\")\n",
    "\n",
    "class Bike(vehicle):\n",
    "    def start_engine(self):\n",
    "        print(\"Bike engine started\")\n",
    "\n",
    "    def stop_engine(self):\n",
    "        print(\"Bike engine stopped\")\n",
    "\n",
    "Car = Car()\n",
    "bike = Bike()\n",
    "\n",
    "def start_engine(vehicle):\n",
    "    vehicle.start_engine()\n",
    "\n",
    "start_engine(Car)  # Output: Car engine started\n",
    "start_engine(bike)  # Output: Bike engine started"
   ]
  },
  {
   "cell_type": "code",
   "execution_count": null,
   "id": "d11d6b20",
   "metadata": {},
   "outputs": [],
   "source": []
  }
 ],
 "metadata": {
  "kernelspec": {
   "display_name": "venv",
   "language": "python",
   "name": "python3"
  },
  "language_info": {
   "codemirror_mode": {
    "name": "ipython",
    "version": 3
   },
   "file_extension": ".py",
   "mimetype": "text/x-python",
   "name": "python",
   "nbconvert_exporter": "python",
   "pygments_lexer": "ipython3",
   "version": "3.13.2"
  }
 },
 "nbformat": 4,
 "nbformat_minor": 5
}
