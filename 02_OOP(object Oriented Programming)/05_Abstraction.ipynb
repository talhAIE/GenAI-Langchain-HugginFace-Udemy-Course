{
 "cells": [
  {
   "cell_type": "markdown",
   "id": "893dfea4",
   "metadata": {},
   "source": [
    "# Abstraction"
   ]
  },
  {
   "cell_type": "markdown",
   "id": "c1c6a47c",
   "metadata": {},
   "source": [
    "Abstraction in Object-Oriented Programming (OOP) is the concept of hiding complex implementation details and showing only the essential features of an object.\n",
    "\n",
    "In Simple Terms:<br>\n",
    "Abstraction lets you focus on what an object does instead of how it does it."
   ]
  },
  {
   "cell_type": "code",
   "execution_count": 2,
   "id": "49f2ef6c",
   "metadata": {},
   "outputs": [
    {
     "name": "stdout",
     "output_type": "stream",
     "text": [
      "Starting the car engine\n",
      "Starting the car engine\n",
      "Driving a vehicle\n"
     ]
    }
   ],
   "source": [
    "from abc import ABC, abstractmethod\n",
    "\n",
    "# Abstract base calss \n",
    "\n",
    "class Vehicle(ABC):\n",
    "\n",
    "    def drive(self):\n",
    "        print(\"Driving a vehicle\")\n",
    "\n",
    "    \n",
    "    @abstractmethod\n",
    "    def start_engine(self):\n",
    "        pass\n",
    "\n",
    "\n",
    "class Car(Vehicle):\n",
    "\n",
    "    def start_engine(self):\n",
    "        print(\"Starting the car engine\")\n",
    "\n",
    "def operate_vehicle(Vehicle):\n",
    "    Vehicle.start_engine()\n",
    "    Vehicle.drive()\n",
    "\n",
    "Car=Car()\n",
    "Car.start_engine()\n",
    "\n",
    "operate_vehicle(Car)\n",
    "    \n",
    "    \n",
    "\n",
    "    \n",
    "\n",
    "    "
   ]
  },
  {
   "cell_type": "code",
   "execution_count": null,
   "id": "ddc49e99",
   "metadata": {},
   "outputs": [],
   "source": []
  }
 ],
 "metadata": {
  "kernelspec": {
   "display_name": "venv",
   "language": "python",
   "name": "python3"
  },
  "language_info": {
   "codemirror_mode": {
    "name": "ipython",
    "version": 3
   },
   "file_extension": ".py",
   "mimetype": "text/x-python",
   "name": "python",
   "nbconvert_exporter": "python",
   "pygments_lexer": "ipython3",
   "version": "3.13.2"
  }
 },
 "nbformat": 4,
 "nbformat_minor": 5
}
