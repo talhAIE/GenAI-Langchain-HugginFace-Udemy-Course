{
 "cells": [
  {
   "cell_type": "markdown",
   "id": "32b62895",
   "metadata": {},
   "source": [
    "# Magic Methods\n",
    "\n",
    "Magic methods (also known as dunder methods, because they have double underscores like __init__, __str__, etc.) are special methods in Python that enable the behavior of built-in operations such as addition, comparison, printing, object construction, etc.\n",
    "\n",
    "They let you define how your objects behave with operators, functions, and syntax."
   ]
  },
  {
   "cell_type": "markdown",
   "id": "fb8d82a5",
   "metadata": {},
   "source": [
    "🔥 Common Magic Methods:\n",
    "Magic Method\tPurpose\tExample Usage\n",
    "* __init__\tConstructor (initializes object)\tobj = MyClass()\n",
    "* __str__\tString representation (human-readable)\tprint(obj)\n",
    "* __repr__\tOfficial string (developer representation)\trepr(obj)\n",
    "* __add__\tDefine behavior for + operator\tobj1 + obj2"
   ]
  },
  {
   "cell_type": "code",
   "execution_count": 5,
   "id": "abb5c1d1",
   "metadata": {},
   "outputs": [
    {
     "name": "stdout",
     "output_type": "stream",
     "text": [
      "Name: John, Age: 30\n"
     ]
    }
   ],
   "source": [
    "# basic methods\n",
    "\n",
    "class person():\n",
    "\n",
    "    def __init__(self,name,age):\n",
    "        self.name=name\n",
    "        self.age=age\n",
    "\n",
    "    def __str__(self):\n",
    "        return f\"Name: {self.name}, Age: {self.age}\"\n",
    "\n",
    "per=person(\"John\", 30)\n",
    "print(per)"
   ]
  },
  {
   "cell_type": "code",
   "execution_count": null,
   "id": "7671fb6e",
   "metadata": {},
   "outputs": [],
   "source": []
  },
  {
   "cell_type": "code",
   "execution_count": null,
   "id": "941f8f68",
   "metadata": {},
   "outputs": [],
   "source": []
  }
 ],
 "metadata": {
  "kernelspec": {
   "display_name": "venv",
   "language": "python",
   "name": "python3"
  },
  "language_info": {
   "codemirror_mode": {
    "name": "ipython",
    "version": 3
   },
   "file_extension": ".py",
   "mimetype": "text/x-python",
   "name": "python",
   "nbconvert_exporter": "python",
   "pygments_lexer": "ipython3",
   "version": "3.13.2"
  }
 },
 "nbformat": 4,
 "nbformat_minor": 5
}
