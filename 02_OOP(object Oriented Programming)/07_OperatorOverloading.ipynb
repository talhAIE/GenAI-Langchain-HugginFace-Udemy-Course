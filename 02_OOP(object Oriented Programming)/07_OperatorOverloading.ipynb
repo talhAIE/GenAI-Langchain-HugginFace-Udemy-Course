{
 "cells": [
  {
   "cell_type": "markdown",
   "id": "66895e8a",
   "metadata": {},
   "source": [
    "# Operator Overloading"
   ]
  },
  {
   "cell_type": "code",
   "execution_count": 5,
   "id": "d5e39626",
   "metadata": {},
   "outputs": [
    {
     "name": "stdout",
     "output_type": "stream",
     "text": [
      "vector(4, 6)\n",
      "vector(-2, -2)\n"
     ]
    }
   ],
   "source": [
    "class vector():\n",
    "    def __init__(self, x, y):\n",
    "        self.x = x\n",
    "        self.y = y\n",
    "\n",
    "    def __add__(self, other):\n",
    "        return vector(self.x + other.x, self.y + other.y)\n",
    "    \n",
    "    def __sub__(self, other):\n",
    "        return vector(self.x - other.x, self.y - other.y)\n",
    "    \n",
    "    def __repr__(self):\n",
    "        return f\"vector({self.x}, {self.y})\"\n",
    "\n",
    "v1 = vector(1, 2)\n",
    "v2 = vector(3, 4)\n",
    "print(v1 + v2)\n",
    "print(v1 - v2)"
   ]
  },
  {
   "cell_type": "code",
   "execution_count": null,
   "id": "3d3736f8",
   "metadata": {},
   "outputs": [],
   "source": []
  }
 ],
 "metadata": {
  "kernelspec": {
   "display_name": "venv",
   "language": "python",
   "name": "python3"
  },
  "language_info": {
   "codemirror_mode": {
    "name": "ipython",
    "version": 3
   },
   "file_extension": ".py",
   "mimetype": "text/x-python",
   "name": "python",
   "nbconvert_exporter": "python",
   "pygments_lexer": "ipython3",
   "version": "3.13.2"
  }
 },
 "nbformat": 4,
 "nbformat_minor": 5
}
