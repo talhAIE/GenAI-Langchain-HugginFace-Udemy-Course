{
 "cells": [
  {
   "cell_type": "markdown",
   "id": "2fbbf68e",
   "metadata": {},
   "source": [
    "# Single and Multiple Inheritance"
   ]
  },
  {
   "cell_type": "code",
   "execution_count": 4,
   "id": "11a743e5",
   "metadata": {},
   "outputs": [],
   "source": [
    "# Parent Class\n",
    "class Animal:\n",
    "    def __init__(self, name,age):\n",
    "        self.name = name\n",
    "        self.age=age\n",
    "    \n",
    "    def speak(self):\n",
    "        print(\"Animal speaks\")\n"
   ]
  },
  {
   "cell_type": "code",
   "execution_count": 5,
   "id": "13384e20",
   "metadata": {},
   "outputs": [],
   "source": [
    "class Dog(Animal):\n",
    "\n",
    "    def __init__(self,name,age,breed):\n",
    "        super().__init__(name,age)\n",
    "        self.breed=breed\n",
    "\n",
    "    def speak(self):\n",
    "        print(\"Woof! Woof!\")"
   ]
  },
  {
   "cell_type": "code",
   "execution_count": 6,
   "id": "540b894c",
   "metadata": {},
   "outputs": [
    {
     "name": "stdout",
     "output_type": "stream",
     "text": [
      "Woof! Woof!\n"
     ]
    }
   ],
   "source": [
    "dog1=Dog(\"Buddy\", 3, \"Golden Retriever\")\n",
    "dog1.speak() "
   ]
  },
  {
   "cell_type": "code",
   "execution_count": 7,
   "id": "f0730363",
   "metadata": {},
   "outputs": [
    {
     "name": "stdout",
     "output_type": "stream",
     "text": [
      "Parrot speaks\n",
      "Bird flies\n"
     ]
    }
   ],
   "source": [
    "# Multiple Inheritance\n",
    "class Bird:\n",
    "    def __init__(self, name, age):\n",
    "        self.name = name\n",
    "        self.age = age\n",
    "\n",
    "    def fly(self):\n",
    "        print(\"Bird flies\")\n",
    "    \n",
    "class Parrot(Animal, Bird):\n",
    "    def __init__(self, name, age, color):\n",
    "        Animal.__init__(self, name, age)\n",
    "        Bird.__init__(self, name, age)\n",
    "        self.color = color\n",
    "\n",
    "    def speak(self):\n",
    "        print(\"Parrot speaks\")\n",
    "\n",
    "# create objects\n",
    "parrot1 = Parrot(\"Polly\", 2, \"Green\")\n",
    "parrot1.speak()\n",
    "parrot1.fly()"
   ]
  },
  {
   "cell_type": "code",
   "execution_count": null,
   "id": "b6077661",
   "metadata": {},
   "outputs": [],
   "source": []
  }
 ],
 "metadata": {
  "kernelspec": {
   "display_name": "venv",
   "language": "python",
   "name": "python3"
  },
  "language_info": {
   "codemirror_mode": {
    "name": "ipython",
    "version": 3
   },
   "file_extension": ".py",
   "mimetype": "text/x-python",
   "name": "python",
   "nbconvert_exporter": "python",
   "pygments_lexer": "ipython3",
   "version": "3.13.2"
  }
 },
 "nbformat": 4,
 "nbformat_minor": 5
}
